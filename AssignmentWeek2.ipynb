








<!DOCTYPE html>
<html lang="en">

<head>
  <meta charset="utf-8">
  <title>Jupyter Notebook Viewer</title>
  <meta name="viewport" content="width=device-width, initial-scale=1.0">
  <meta name="description" content="">
  <meta name="author" content="">
  
  <meta name="robots" content="noindex,nofollow">
  

  <!--NEW RELIC Start Perf Measurement-->
  
  <!--NREND-->

  <!-- Le styles -->
  <link href="/static/build/styles.css" rel="stylesheet">

  <!-- Le HTML5 shim, for IE6-8 support of HTML5 elements -->
  <!--[if lt IE 9]>
    <script src="http://html5shim.googlecode.com/svn/trunk/html5.js"></script>
  <![endif]-->

  <!-- Le fav and touch icons -->
  <link rel="shortcut icon" href="/static/ico/ipynb_icon_16x16.png">
  <link rel="apple-touch-icon-precomposed" sizes="144x144"
        href="/static/ico/apple-touch-icon-144-precomposed.png">
  <link rel="apple-touch-icon-precomposed" sizes="114x114"
        href="/static/ico/apple-touch-icon-114-precomposed.png">
  <link rel="apple-touch-icon-precomposed" sizes="72x72"
        href="/static/ico/apple-touch-icon-72-precomposed.png">
  <link rel="apple-touch-icon-precomposed"
        href="/static/ico/apple-touch-icon-57-precomposed.png">
  
  

  

  
  <meta name="twitter:card" content="summary">
  <meta name="twitter:title" content="Notebook on nbviewer">
  <meta name="twitter:description" content="Check out this Jupyter notebook!">

  
  <meta name="twitter:domain" content="nbviewer.ipython.org">
  <meta name="twitter:image:src" content="http://ipython.org/ipython-doc/dev/_images/ipynb_icon_128x128.png">

  
    <link href="/static/build/notebook.css" rel="stylesheet">
  

  

  
    <script src="https://cdn.mathjax.org/mathjax/latest/MathJax.js?config=TeX-AMS_HTML" type="text/javascript">
    </script>
    <script type="text/javascript">
      init_mathjax = function() {
        if (window.MathJax) {
          // MathJax loaded
          MathJax.Hub.Config({
            TeX: {
              equationNumbers: {
                autoNumber: "AMS",
                useLabelIds: true
              }
            },
            tex2jax: {
              inlineMath: [ ['$','$'], ["\\(","\\)"] ],
              displayMath: [ ['$$','$$'], ["\\[","\\]"] ],
              processEscapes: true,
              processEnvironments: true
            },
            displayAlign: 'center',
            "HTML-CSS": {
              styles: {'.MathJax_Display': {"margin": 0}},
              linebreaks: { automatic: true }
            }
          });
          MathJax.Hub.Queue(["Typeset", MathJax.Hub]);
        }
      }
      init_mathjax();
    </script>
  

</head>

<body>

  <!-- These are loaded at the top of the body so they are available to
       notebook cells when they are loaded below. -->
  <script src="/static/components/jquery/dist/jquery.min.js"></script>
  <script src="/static/components/requirejs/require.js"></script>
  <script src="/static/components/moment/min/moment.min.js"></script>

<!-- Navbar
================================================== -->
  <nav id="menubar" class="navbar navbar-default navbar-fixed-top" data-spy="affix">
    <div class="container">
      <div class="navbar-header">
        <button type="button" class="navbar-toggle collapsed" data-toggle="collapse" data-target=".navbar-collapse">
          <span class="sr-only">Toggle navigation</span>
          <i class="fa fa-bars"></i>
        </button>
        <a class="navbar-brand" href="/">
          <img src="/static/img/nav_logo.svg" width="159"/>
        </a>
      </div>

      <div class="collapse navbar-collapse">
        <ul class="nav navbar-nav navbar-right">
          <li>
            <a class="active" href="http://jupyter.org">JUPYTER</a>
          </li>
          <li>
    <a href="/faq" title="FAQ" >
      
        <span>FAQ</span>
      
    </a>
  </li>

          
  
    
  

  
    <li>
    <a href="#" title="Python 2 Kernel" >
      <span class="fa fa-server fa-2x menu-icon"></span>
      <span class="menu-text">Python 2 Kernel</span>
    </a>
  </li>
  

  

  <li>
    <a href="http://maartenmarx.nl/teaching/SocialNetworks/Assignments/ASSIGNMENTS/AssignmentWeek2.ipynb" title="Download Notebook" download>
      <span class="fa fa-download fa-2x menu-icon"></span>
      <span class="menu-text">Download Notebook</span>
    </a>
  </li>

        </ul>
      </div><!-- /.navbar-collapse -->
      
      
    </div>
  </nav>

  <div class="container container-main">
    
  
  <div id="notebook">
    <div id="notebook-container">
      
<div class="cell border-box-sizing text_cell rendered">
<div class="prompt input_prompt">
</div>
<div class="inner_cell">
<div class="text_cell_render border-box-sizing rendered_html">
<h1 id="Assignment--week-2">Assignment  week 2<a class="anchor-link" href="#Assignment--week-2">&#182;</a></h1>
</div>
</div>
</div>
<div class="cell border-box-sizing text_cell rendered">
<div class="prompt input_prompt">
</div>
<div class="inner_cell">
<div class="text_cell_render border-box-sizing rendered_html">
<h2 id="Notebook-made-by---(If-not-filled-in-correctly:-0-pts-for-assignment)">Notebook made by   (If not filled in correctly: 0 pts for assignment)<a class="anchor-link" href="#Notebook-made-by---(If-not-filled-in-correctly:-0-pts-for-assignment)">&#182;</a></h2><p><strong>Name(s)</strong>:</p>
<p><strong>Student id(s)</strong> :</p>
<h3 id="Pledge-(taken-from-Coursera's-Honor-Code-)">Pledge (taken from <a href="https://www.coursera.org/about/terms/honorcode">Coursera's Honor Code</a> )<a class="anchor-link" href="#Pledge-(taken-from-Coursera's-Honor-Code-)">&#182;</a></h3><p>Put here a selfie with your photo where you hold a signed paper with the following text: (if this is team work, put two selfies here). The link must be to some place on the web, not to a local file. <strong>Assignments without the selfies will not be graded and receive 0 points.</strong></p>
<blockquote><p>My answers to homework, quizzes and exams will be my own work (except for assignments that explicitly permit collaboration).</p>
<p>I will not make solutions to homework, quizzes or exams available to anyone else. This includes both solutions written by me, as well as any official solutions provided by the course staff.</p>
<p>I will not engage in any other activities that will dishonestly improve my results or dishonestly improve/hurt the results of others.</p>
</blockquote>
<p><img src='link to your selfie'/></p>

</div>
</div>
</div>
<div class="cell border-box-sizing text_cell rendered">
<div class="prompt input_prompt">
</div>
<div class="inner_cell">
<div class="text_cell_render border-box-sizing rendered_html">
<h2 id="De-vragen-deel-0">De vragen deel 0<a class="anchor-link" href="#De-vragen-deel-0">&#182;</a></h2><p>Maak alle vragen uit <a href="AssignmentWeek1.ipynb">het huiswerk van vorige week</a>, maar nu in NetworkX.</p>

</div>
</div>
</div>
<div class="cell border-box-sizing text_cell rendered">
<div class="prompt input_prompt">
</div>
<div class="inner_cell">
<div class="text_cell_render border-box-sizing rendered_html">
<h2 id="De-vragen-deel-1">De vragen deel 1<a class="anchor-link" href="#De-vragen-deel-1">&#182;</a></h2><h2 id="MacBeth-en-Networkx">MacBeth en Networkx<a class="anchor-link" href="#MacBeth-en-Networkx">&#182;</a></h2><p>Ga naar <a href="http://politicalmashup.nl/2011/01/networks-in-shakespeares-plays">http://politicalmashup.nl/2011/01/networks-in-shakespeares-plays</a> en download de graphml file:</p>
<p><a href="http://politicalmashup.nl/new/uploads/2013/09/macbethcorrected.graphml">http://politicalmashup.nl/new/uploads/2013/09/macbethcorrected.graphml</a></p>
<p>je kunt deze als volgt laden:</p>

<pre><code>nx.read_graphml("macbethcorrected.graphml")</code></pre>
<p>Zie beneden voor voorbeeld code.</p>
<h4 id="Programmeer--nu-de-volgende-opgaven:">Programmeer  nu de volgende opgaven:<a class="anchor-link" href="#Programmeer--nu-de-volgende-opgaven:">&#182;</a></h4><ol>
<li>Bereken en print (naar het scherm) de adjacency matrix </li>
<li>Bereken voor ieder personage zijn "neighbour set" en zijn "degree", print 3 kolommen: personage       neighbour set            degree</li>
<li>Bereken en print de adjacency matrix van de "subgraph induced by" Macbeth, Lady en Banquo.</li>
<li>Teken deze graaf.</li>
<li>Teken alle grote volledige deelgrafen in de Macbeth graaf (alleen die met meer dan 3 knopen). </li>
</ol>

</div>
</div>
</div>
<div class="cell border-box-sizing text_cell rendered">
<div class="prompt input_prompt">
</div>
<div class="inner_cell">
<div class="text_cell_render border-box-sizing rendered_html">
<h2 id="De-vragen-deel-2">De vragen deel 2<a class="anchor-link" href="#De-vragen-deel-2">&#182;</a></h2><ul>
<li>All exercises from Chap 3 E &amp; K. and problems 1 and 2 from <a href='http://www.infosci.cornell.edu/courses/info2040/2011fa/ps1.pdf'>the homework for chapter 3 in the course given by Easley</a> (<a href='../../EXERCISES/EasleyandKleinberg2011Exercises/ps1.pdf'>Local copy</a>)    </li>
</ul>

</div>
</div>
</div>
<div class="cell border-box-sizing text_cell rendered">
<div class="prompt input_prompt">
</div>
<div class="inner_cell">
<div class="text_cell_render border-box-sizing rendered_html">
<h1 id="Mijn-antwoorden-op-de-E&amp;K-vragen">Mijn antwoorden op de E&amp;K vragen<a class="anchor-link" href="#Mijn-antwoorden-op-de-E&amp;K-vragen">&#182;</a></h1><ul>
<li>Gebruik voor elk antwoord een aparte MarkDown cell.</li>
<li>Copieer eerst de vraag, zoals in de voorbeelden.</li>
<li>Geef daaronder, in dezelfde cel, het antwoord.</li>
<li>Als je een plaatje moet inleveren, zet het ergens op het web, en geef de link ernaartoe. Lokale links werken niet.</li>
</ul>

</div>
</div>
</div>
<div class="cell border-box-sizing text_cell rendered">
<div class="prompt input_prompt">
</div>
<div class="inner_cell">
<div class="text_cell_render border-box-sizing rendered_html">
<h1 id="Mijn-antwoorden-op-de-programmeer-vragen">Mijn antwoorden op de programmeer vragen<a class="anchor-link" href="#Mijn-antwoorden-op-de-programmeer-vragen">&#182;</a></h1><ul>
<li>Gebruik voor elk antwoord een aparte code cell.</li>
<li>Copieer eerst de vraag in een voorafgaande MarkDown cell, zoals in het voorbeeld beneden.</li>
<li>Alle plaatjes moeten lokaal in je notebook getoond worden.</li>
</ul>

</div>
</div>
</div>
<div class="cell border-box-sizing text_cell rendered">
<div class="prompt input_prompt">
</div>
<div class="inner_cell">
<div class="text_cell_render border-box-sizing rendered_html">
<h4 id="Voorbeeld-code-Macbeth">Voorbeeld code Macbeth<a class="anchor-link" href="#Voorbeeld-code-Macbeth">&#182;</a></h4>
</div>
</div>
</div>
<div class="cell border-box-sizing code_cell rendered">
<div class="input">
<div class="prompt input_prompt">In&nbsp;[1]:</div>
<div class="inner_cell">
    <div class="input_area">
<div class=" highlight hl-ipython2"><pre><span class="o">%</span><span class="k">matplotlib</span> inline 
<span class="kn">import</span> <span class="nn">networkx</span> <span class="kn">as</span> <span class="nn">nx</span>
</pre></div>

</div>
</div>
</div>

</div>
<div class="cell border-box-sizing code_cell rendered">
<div class="input">
<div class="prompt input_prompt">In&nbsp;[2]:</div>
<div class="inner_cell">
    <div class="input_area">
<div class=" highlight hl-ipython2"><pre><span class="c"># Downloading the file. This only works on linux or mac</span>

<span class="n">macbeth_url</span><span class="o">=</span><span class="s">&#39;http://politicalmashup.nl/new/uploads/2013/09/macbethcorrected.graphml&#39;</span>
<span class="o">!</span>curl <span class="nv">$macbeth_url</span> &gt; <span class="s1">&#39;macbethcorrected.graphml&#39;</span>
</pre></div>

</div>
</div>
</div>

<div class="output_wrapper">
<div class="output">


<div class="output_area"><div class="prompt"></div>
<div class="output_subarea output_stream output_stdout output_text">
<pre>  % Total    % Received % Xferd  Average Speed   Time    Time     Time  Current
                                 Dload  Upload   Total   Spent    Left  Speed
100  7929  100  7929    0     0   815k      0 --:--:-- --:--:-- --:--:--  860k
</pre>
</div>
</div>

</div>
</div>

</div>
<div class="cell border-box-sizing code_cell rendered">
<div class="input">
<div class="prompt input_prompt">In&nbsp;[3]:</div>
<div class="inner_cell">
    <div class="input_area">
<div class=" highlight hl-ipython2"><pre><span class="n">MacB</span><span class="o">=</span> <span class="n">nx</span><span class="o">.</span><span class="n">read_graphml</span><span class="p">(</span><span class="s">&#39;macbethcorrected.graphml&#39;</span><span class="p">)</span>
<span class="n">nx</span><span class="o">.</span><span class="n">draw</span><span class="p">(</span><span class="n">MacB</span><span class="p">)</span>
</pre></div>

</div>
</div>
</div>

<div class="output_wrapper">
<div class="output">


<div class="output_area"><div class="prompt"></div>


<div class="output_png output_subarea ">
<img src="data:image/png;base64,iVBORw0KGgoAAAANSUhEUgAAAd8AAAFBCAYAAAA2bKVrAAAABHNCSVQICAgIfAhkiAAAAAlwSFlz
AAALEgAACxIB0t1+/AAAIABJREFUeJzs3XdUVEcbx/HvAtKkKKKAgmLvJRoFFRv23o0aW2zYe09s
0eirxpbEEjsaS6yJJfZIYos1YsVeCGoU6b3svH8gG1DssIv6fM7ZE/aWuc8uht/eu3NnNEophRBC
CCH0xsjQBQghhBAfGwlfIYQQQs8kfIUQQgg9k/AVQggh9EzCVwghhNAzCV8hhBBCzyR8hRBCCD2T
8BVCCCH0TMJXCCGE0DMJXyGEEELPJHyFEEIIPZPwFUIIIfRMwlcIIYTQMwlfIYQQQs8kfIUQQgg9
k/AVQggh9EzCVwghhNAzCV8hhBBCzyR8hRBCCD2T8BVCCCH0TMJXCCGE0DMJXyGEEELPJHyFEEII
PZPwFUIIIfRMwlcIIYTQMwlfIYQQQs8kfIUQQgg9k/AVQggh9EzCVwghhNAzCV8hhBBCzyR8hRBC
CD2T8BVCCCH0TMJXCCGE0DMJXyGEEELPJHyFEEIIPZPwFUIIIfRMwlcIIYTQMwlfIYQQQs8kfIUQ
Qgg9k/AVQggh9EzCVwghhNAzCV8hhBBCzyR8hRBCCD2T8BVCCCH0TMJXCCGE0DMJXyGEEELPJHyF
EEIIPZPwFUIIIfRMwlcIIYTQMwlfIYQQQs8kfIUQQgg9k/AVQggh9MzE0AUIIcSLhIaGEhgYSEJC
AtmzZydnzpxoNBpDlyXEO5MzXyFEppKYmMiOHTto6OFBnpw5qVOuHE0+/ZRiefNSytWVBT/8QFhY
mKHLFOKdaJRSytBFCCEEgI+PD93atcMxJob+4eG0BcyfrlPAn8DCrFnZr9Uy5ssvGTlunJwJi/eS
hK8QIlPYumULfTp35qfoaOq9Ytt7QHNLS6p26MD3S5dKAIv3jlx2FkIY1KpVqyhbtix9unRh72sE
L0Be4M+oKI6vX8/UiRPf6rh37tzByMgIrVb7VvsL8S4kfIX4CJw9e5ZevXrh4uJCjhw58PDw4PTp
04YuS+fW9essjIriE5L+KDkAiSnWxwO5SP0HyxrYGRXFnJkzuX//vv6KFSIdSPgK8RHo0aMHJUuW
5NKlSwQEBDBx4kTMzMwMXRYAt2/fJj42llYpltkBu1M83/102bMXl52A9sCyxYtfeoyEhIR0qPQ/
iYmJr94oA48v3n8SvkJ84K5du4afnx8DBgzAxsYGc3Nz6tatS+nSpQE4cuQIn3/+Ofnz52fy5MkE
Bgbq9vX392fy5MkUKlQIR0dHpk+fDiSFyU8//YS7uzuVK1dm7dq1uoDx8fHB2dmZJUuWUKBAAapW
rcru3f9FaUREBNOmTcPZ2ZnatWuzc9s2nLTaVH+MOgOrUzxfDXQhqdNVMlfgINA3NpYlP/zA+PHj
6dy5M/DfJeVNmzZRqlQp6tati1KKdevWUaJECcqVK8eff/6Z6n2Kjo5m+fLlVKpUCQ8PDzZt2kRy
l5hVq1bh4eHBxIkTyZcvH5MnTyYhIYGNGzfi6elJuXLlWL58OXFxcaneg8WLF1OkSBF69Ojxdr88
8eFSQogPXsGCBVXr1q3Vjh07VEhIiG65r6+vcnZ2Vvv371dBQUFq4MCBqmPHjrr1ZcqUUcOGDVMB
AQEqPDxcnThxQiml1IoVK1SZMmXUqVOn1JkzZ1S5cuXUypUrlVJKHTp0SGXJkkX17dtXPXr0SC1d
ulQ5Ozvr2hw+fLiqX7++unXrlvr111+VRqNRlUCppw8NqIugHECFggp6+vPFp+uSt3MFdfDpzyWt
rVXv3r1Vp06dlFJK3b59W2k0GtWiRQt18+ZNFR0drXbs2KEKFCigDh8+rHx9fZWbm5syMjJSiYmJ
Simlhg4dqtq3b69u376tzp07p0qVKqX27dunlFJq5cqVKkuWLGrs2LEqJCRERUdHq/nz5ytPT091
8eJFdePGDVWzZk21ZMkS3XtgYmKiunfvrh48eKCio6Mz7pcr3ksSvkKko/DwcHX58mV14sQJdfHi
xVRBZ0j37t1TY8aMUS4uLsrKykoNHjxYPXnyRI0bN0598803uu0CAwOVvb29SkhIUJcvX1Z2dna6
cEqpWbNm6scff9Q9X7p0qWrWrJlSKil4jI2N1ePHj5VSSsXHxysrKyvl5+enlFKqRIkS6uDBg0op
pbRardKAqvpM+N4A1RPUj6AWger9dNmLwreOra3q3Lnzc+H7559/6mrs27evGj9+vO758uXLlUaj
UYmJiUqr1SpXV1d179493fq5c+eqfv36KaWSwtfCwkLFxsbq1letWlUdPXpU93zbtm2qUaNGuvdA
o9Gkak+IlGSEKyHSga+vLwtnz2bj5s3kMjHB2siISK2WB3FxNGnUiH4jRlC5cmWD3RLj4uLC9OnT
mT59OidOnKB79+7Y2Nhw8OBBLl26xKxZs3TbxsXFcebMGU6fPo2bmxtGRs9/O3Xs2DEmTJige16h
QgVGjRqle+7k5IS9vT0AJiYm2NvbExAQgJOTE1euXKFcuXL/NaZ5GqkpaEi6zDzm6fOZpL7k/CwF
ukvEKbm5uel+PnnyJOPGjdM9/+STT3Q/+/n5ce/ePcqUKaNbptVqyZ8/v+552bJlMTU1BSAyMpJj
x47RuHHj/2pQKtXv18HBARcXl5dULT5m8p2vEO8gKCiIBtWq0aRKFVzWreNKdDRXw8M5HRrKlfBw
bsfGUuGXX+hWrx7upUvj7+9v6JJxc3OjQ4cOHDp0CE9PT7766iuCg4N1j8jISCpVqoSnpycnT55M
s3NR1apVU/WWPn36NNWrV3/lsW1sbChWrBh///03ABqNBlNjY+LS2LYa8BB4BFRNY32ep+sBHmi1
3Lt377kPNyYm/51fVKpUSXdcSOoBnqxo0aI4Oztz+fJl3fsQGhrKuXPn0mwra9asuLm5sXfvXt32
ISEhBAcHp7m9EM+S8BXiLT18+JAq5cpR+uRJbkdF8VViIo7PbJMdGKoUfpGRtPPzo0q5cly7dk2v
dV69epU5c+YQEBBAYmIiZ8+eZe3atXTt2pVOnTrx448/sm/fPuLi4ggNDWXTpk0AFCtWDGdnZ8aM
GcP9+/cJDw/n5MmTADRv3pzFixdz5swZ/v77bxYvXkyLFi1eq55GjRrx7bffcvv2bXbu3IlRliw8
fsG2O4DtL1hXG1gP/A78qxS+vr6vPO769es5evQo58+fZ/ny5bp1RkZGfPbZZ4wePZorV66g1Wq5
efPmc52yUurcuTMTJkzg7NmzaLVaAgIC2Ldv30trECKZhK8QbyEqKoomtWrR/sEDZsXFvXKGEiNg
eGIiE4KDaVSzZqoexRnN2tqaEydO4Obmhp2dHcOGDaNjx4507tyZEiVK4O3tzcaNG3F2dqZ06dLs
3btXt++OHTuwsLCgSpUqFClSBB8fHwA6derE0KFD6devH3379mXIkCF8/vnnuv1ednl94sSJVK1a
FQ8PD+bNm0ePHj14YGSku6835Z4lgOIpnqdc1wvICTQBnPLlo3fv3qmO82wNjRo1YtKkSfTq1Ysu
XbrQt2/fVNtMmjSJWrVq0bdvX+zs7Gjbti0PHz7UtfVse7169aJ79+5MmDABOzs76tatm+qDlYy6
JV7K0F86C2EI+fLlUxYWFsra2lrlzZtX1apVS23atEm3vkaNGmrZsmWp9jl06JCu1+6ihQsVoEqD
0qboBPQlqG4pnieCmg2qPCgbUPlAFTEyUgP69EnVdteuXZWJiYl68OBBquUTJ05UGo1Gbdy4Ubcs
Pj5eaTQadffu3fR+WwymUvHian2K9+11H/+AymZu/tz7JkRmJ2e+4qOk0WjYuXMnYWFhbNmyBXd3
d4YMGcKIESN061905qKUYuHMmWiAB8CGlO0+s21nYDFJnYfuAkeBplotq729dfeERkZGsmXLFkqU
KMFPP/303PHs7OyYOHHiBz0M4ncrVzLI0pJTb7BPCNA4a1bGfPkljo7PXvAXInOT8BUfvU8//ZRp
06YxefJk5s2bx/Xr11+6/dGjR4l9nPQt5ShgIv8NhZiyv+1Rkr6T9AYGA9lI6iT0LVDB2Jht27YB
sGXLFvLnz8+oUaPw9vZOdSyNRkODBg0wNTVNM5g/FG5ubizfsIGGZmZs5+U9mwFuAtUsLfHs2pVR
X36phwqFSF8SvkI81bx5czQaDWfOnHnpdvv27KFtVBQALQEbYFUa2/1J0njEldNY91lEBHu2bAHA
29ubzz77jGbNmnHjxo1UvXAhKYCnTJnC5MmT33hYw/dJtWrVMMmWjf52dpS3smIpEJlivRbYCzQy
NaWSpSU9v/6a2T/8IN+tiveShK8QT9nb21OsWLFX3g4U9PAhuZ7eU2oETHn6iH9mO3+g0gvayAUE
P37MvXv38PHxoW3btlhbW1O/fn1Wr/5vYEX19N7Rpk2bkjNnTpYuXfp2Ly6TU0rRu3dv2rZty93H
j5mxZQu7atcmp4kJuS0tyZs1KzZZsjDIyYkrTk7ce/SIwcOHS/CK95aErxBPPX78GD8/P1xcXLC0
tCQ8PDzV+oiICCwtLTEyNiblt68NAWfgR1J/5+sCnHjBsbSAkbExa9asoVSpUhQpUgSAtm3bsm7d
ulRnuOpp0E+dOpVvvvmG2NjYd3uhmdDy5cu5evUqs2bNwsjIiHr16vHLgQM8CQvj1LVr/HnxIgGP
H3Px7l1i4+Iyxf3SQrwLCV8hntq+fTtKKSpUqEC9evU4cuRIqvWHDx+mYcOG2OfOTYCxcap13wDT
gKgUy6oDj4HjaRwrALB3cmL16tVcv34dJycnnJycGDJkCIGBgezateu5ferUqUOhQoVYsGDBu73Q
TObKlSuMHTuWDRs2YG5unmqdhYUFefLkwdXVFVtbW7JkycLnn3/OmjVrDFStEOlDwld8tJLPKM+e
Pcv48eOZPHkygwYNonDhwjRv3pyDBw+ybt06wsPD2blzJ5s3b6Z169Y0b9GC9c9Mx1cDKEVS56pk
VYGOwBfA90AwSSMyzQbmmJlRtFw5bt26xalTp/D19cXX15eLFy/SsWPHVJeeU/rmm2+YOXNmOr8T
hhMTE0P79u2ZPn06xYsXf/UOJA1usWbNmg+697f48En4io9W06ZNsbGxoUWLFhw5coRvv/2WOXPm
AODq6sqmTZvYv38/RYsWZfXq1cyePRsPDw/Kli2La6FCz91WNBUIIvWl5zWAF0kdslwBN+AIoLWy
4vr167Ro0YKSJUuSK1cucuXKhYODA4MHD2bXrl0EBwc/d8tTlSpVcHNz+2C+6xw1ahRFixZ9oyn3
ypQpg52dHX/88UcGViZExtIolcZo5EKIl1q3bh3f9+7Nn5GRZHmD/RTQ2twc94kTGTVmzCu3/5Dt
2LGDgQMHcu7cObJly/ZG+86ZM4eLFy+yYsWKDKpOiIwl4SvEW0hISKBZnTo4nTjB0piY17qEpIDx
xsbsLVIEn1OnyJo1a0aXmWkFBARQoUIFtm7dSpUqVd54/wcPHlCiRAkCAgKwtLTMgAqFyFhy2VmI
t2BiYsLPO3ZwvUQJ2ltYEPSK7SOAPkZGfKcU85ct+6iDNzExkc6dOzNgwIC3Cl5ImrLQ3d2dX375
JZ2rE0I/JHyFeEvW1tbsO3qUHO3aUdDcnO4WFpziv9GZFHAZGGhmhoupKT8bGzN8wgQ6deqkG7D/
YzRjxgy0Wi1jx459p3a6dOkivZ7Fe0suOwuRDh49esSKpUtZ8t13/BMYiHWWLEQkJGBnZUXPPn3o
3b8/69at48CBA3h4eLB9+3Z8fHywtrY2dOl6dfz4cVq0aMGZM2dwdnZ+p7aioqLIkycPly9fxsnJ
KZ0qFEI/JHyFSGexsbGEhYVhZWWFhYWFbnlCQgJubm7069ePEydOcPfuXXbu3EmWLG/SZev9FRIS
wieffMK8efNo3rx5urTZvXt3SpYsyfDhw9OlPSH0RcJXCD3y9fWlbt26nD59mn79+pEjRw5WrVr1
wdw69CJKKTp06IC9vT0//PBDurXr4+PDkCFDOHfuXLq1KYQ+yHe+QuhR2bJl8fLyYvDgwWzYsAE/
Pz/Gjx9v6LIy3MqVK7l8+TKzZs1K13arV69OcHAwvr6+6dquEBlNwlcIPfvqq6+4evUqv/32Gzt3
7mTjxo0sWrTI0GVlGD8/P0aPHs2GDRtSXYZPD0ZGRnTq1Ek6Xon3jlx2FsIAjh8/TqtWrbhw4QKh
oaFUq1aNhQsX0qJFC0OXlq5iYmJwd3enX79+9O7dO0OO4efnh6enJ/fu3cPExCRDjiFEepMzXyEM
oHLlyrRv356hQ4dSsGBBtm/fTq9evTh27JihS0tXY8aMoVChQvTq1SvDjlGsWDGcnZ05ePBghh1D
iPQm4SuEgUydOpWjR4/y22+/8emnn7J69WpatmyJn5+foUtLFzt37mTbtm0sXbo0wzuUdenS5YWT
UQiRGcllZyEM6ODBg3zxxRdcvHgRGxsbVq5cyddff82xY8fe63tX79+/T/ny5dm8eTMeHh4ZfrzA
wEAKFSqEv7//R3fvtHg/yZmvEAZUu3Zt6tevz6hRowD44osv6NGjB40aNSIsLMzA1b2d5OEj+/Xr
p5fgBbC3t6dGjRps2bJFL8cT4l1J+AphYN9++y27du3Cx8cHgC+//BI3Nzdat25NXFycYYt7CzNn
ziQhIYEvv/xSr8eVS8/ifSKXnYXIBHbs2MHQoUM5f/48lpaWJCQk0Lp1a2xsbFi9evV7MwjHX3/9
RfPmzTl9+jQuLi56PXZsbCx58uTh7Nmz5M2bV6/HFuJNyZmvEJlA06ZNqVixIhMmTACSZk1av349
N27cYNy4cQau7vWEhobSsWNHFi9erPfgBTAzM6NNmzasXbtW78cW4k3Jma8QmcTjx48pXbo027dv
p1KlSkBSR6KqVasycOBABgwYYOAKXyx5+Eg7OzsWLlxosDqOHTtGjx49uHz58ntztUB8nOTMV4hM
ImfOnMydO5cePXrovuu1t7dn9+7dTJs2ja1btxq4whdbtWoVFy9eZPbs2Qato3LlysTHx3PmzBmD
1iHEq0j4CpGJtG/fHldXV6ZNm6ZbVqBAAXbu3ImXlxdHjhwxYHVpu3r1KqNGjcqQ4SPflEajoXPn
ztLxSmR6ctlZiEwmICCAcuXK8fvvv1O6dGnd8n379tG5c2d8fHwoXry4ASv8T2xsLO7u7nh5edGn
Tx9DlwPArVu3cHd3JyAg4KOZrlG8f+TMV4hMJk+ePEybNo3u3buTkJCgW16vXj1mzZpFw4YNuX//
vgEr/M+YMWPInz8/Xl5ehi5Fp0CBAhQtWpQ9e/YYuhQhXkjCV4hMqGfPnlhbWzNv3rxUy7t06YKX
lxcNGzYkNDTUQNUl2bVrF1u2bGHZsmWZrnNT8qXn4OBgzpw5w6FDhzh58iT//vuvoUsTApDLzkJk
Wjdv3sTNzY3jx49TuHBh3XKlFP379+fq1avs3r0bU1NTvdf24MEDPvnkEzZu3Ej16tX1fvyXUUpx
4MAB2jRqhMbYmAJmZlhrNEQCt2JjqValCv1GjaJu3boYGcn5hzAMCV8hMrG5c+fy66+/8vvvv6cK
isTERNq0aYOlpSVr1qzRa4hotVrq1auHh4cHkyZN0ttxX8fjx49p26gR/1y5gldkJN2BHCnWRwLr
gQVWVsTlyMG2ffsoUqSIYYoVHzX52CdEJjZo0CBiYmJYsmRJquXGxsasW7eOO3fuMHbsWL3WNGvW
LOLi4vjqq6/0etxXuX//PlXKlaOary/XIiMZSergBcgK9ATORkQw9N49qlesiK+vr/6LFR89OfMV
IpO7dOkSNWvW5OzZs8+NHPXkyROqVq1Kv379GDRoUIbXcuLECZo1a8apU6deOYSjUgobGxsuXLiA
q6trhtYVFRVF1XLlaHP7Nl+m6KT2Kj8DI+zsOHHhArlz59Yt79atGy4uLkyZMiUDqhVCznyFyPRK
lizJoEGD8PLy4tnPyjly5GDPnj3MnDmTzZs3Z2gdycNHLlq0KM3gdXV1xdLSEmtra6ytrbG1teX6
9etvFbw+Pj7PfdCYNGkSRkZGfPfdd6mWz58/HysrKyLv3GHcGwQvwGdAm/Bw5kyfnmq5RqPJdJ3I
xIdFwleI98CYMWMICAhIc9xiV1dXdu7cSb9+/fjzzz8z5PhKKfr27Uu9evVo1apVmttoNBp27txJ
eHg44eHhhIWF4ejo+MI2tVrtG9Wg0WgoUqTIcwNoeHt7Y2piQuX4eN4mLgfEx+O9ahXR0dGplr/N
RcGENwx/pdRbHUe8/yR8hXgPZMmShRUrVjB8+PA0b5cpV64ca9eupU2bNly6dCndj7969WrOnz/P
nDlz3mg/IyMjbt26BSRdyh06dCjt2rUjR44c+Pj4cOTIERo2bIidnR3Ozs7MmTOHqKgo3b3M1tbW
2NjY8ODBAwAqVqxIVFQUly9fBpIuyQcHB2Oq1ZL/6TFXAdWerQO49fTnbsBQoB1J3wnfBUprtTRo
0ABHR0d69er1XIieP3+ePn36kDdvXoYPH869e/d061xdXVm4cCFVqlQhW7ZsaLVabt68yahRo8iX
Lx+9evXS1QtQs2ZNpk2bRr169bC1teX27dtv9J6KD4OErxDviQoVKtCtWzcGDhyY5vq6desye/Zs
GjVqREBAQLod99q1a4wYMeK1ho981Vnc0qVLadmyJf/++y9Vq1Zl6NCheHl5ERgYyKVLl6hVqxaW
lpbs2bOH3Llz686gnZycdG2kHD7S29ubQgULkjcx8Y3OepcCLYF/garA7agoHgUEcPHiRYoWLcrG
jRt1l52fPHlCzZo1adiwIRcvXsTe3p4OHTro2tJoNCxYsIAZM2bw5MkTlFJUqVKFEiVKcPHiRapV
q0b9+vVTHX/BggUMHjyYoKAgmf7wIyXhK8R7ZNKkSZw7d45t27alub5z587069cv3QbhiI2NpX37
9nz99deUKlXqpdsqpWjRogXZs2cne/bstGzZ8rlt3Nzc6NChAyYmJpiZmenOEsPCwrC1teWTTz7R
tZVW+wCdOnVi/fr1JCQk8PPPP5PXyQlzeKPwdQM6ACZACHAfyJszJ/b29owYMQIHBwfdtlu3bqVN
mzY0b94cGxsbRo0axY0bN3j06JFum/bt21OtWjXMzMz4/fffKVu2LN26dcPa2pouXbpgb2/PqVOn
dNs3aNCAxo0bY2JigomJyRtULj4UEr4fkFOnTvH15MkM7tOHof37M3XqVC5cuGDoskQ6srCwYPny
5QwYMIDg4OA0txk1ahQ1atSgZcuWxMbGvtPxxo0bR758+V5r3GaNRsOvv/5KcHAwwcHBz31A0Gg0
uLm5pVq2evVqfH19KVCgAG3btn3lbT8ajQYXFxcKFSrE2LFjKVKkCNmyZeNNvjXVkBS+yU4CjoBZ
isFKypcvr/v5wIEDrF27Vvehwt7ensjIyFTfr6d8XQcOHODw4cO67bNnz86NGzd026f1PoiPj4Tv
ey42NpaVK1dSsVgxPqtVi6ivv8b1xx9xWbiQkEmTaOjuTrVy5XRnCuL9V61aNVq0aMHw4cPTXK/R
aJg3bx7Zs2enW7dub9yxKdnu3bvZtGkTy5cvT7eev8bGxqmelyxZktWrV/PgwQNKly5Nz549ddu9
6Ow3MTGROnXqMHv2bDQaDZu3byc8xTZ5SLqcnOzvtOpI8XNF4AGQLWdO3bKzZ8/qfvb09KRLly66
DxXBwcFERETQpk0b3TYpz149PT2pWbNmqu3Dw8NT/b7kbFdI+L7HAgMD8XRzY+3AgXx99So3IiP5
n1bLUGAY8G1iIneiohjq68v3vXrR1NOT8PDwVzUr3gP/+9//OHjwIPv27UtzvbGxMT/99BP//PMP
o0aNem69n58fc+fO5atx4/hq3Djmzp3LtWvXdOsfPHhA9+7dWbNmDXZ2dulS87NhGh8fz9q1a3WX
x5NvUwIoW7YsgYGB3L9/nxs3brBhwwb27dvHvn37yJ49O0uXLqVGjRrUqlWLKVOmcM/IiPin7XoA
/sC+p/+d+Wwdzzx3BLIYGRFF0ghZc+bMSdWprV27dmzdupVffvmFyMhIIiMj2bVrFxEREWm+zjp1
6nDhwgXd2NIxMTH4+Pik+h5eejgLCd/3VGhoKJ5ubnhcucK+yEgakvYv0wRoBfwZGYnzyZM0rF6d
mJgY/RYr0p21tTVLlizBy8vrhSFgYWHBr7/+ym+//cbcuXNJTExky5Yt1K5UiZrly3Nj7FjMpk/H
dPp0ro8dS7Vy5ajr7s6WLVvo3LkzvXv3pkaNGu9UZ8oz5rTunf3pp5/Inz8/efPm5cSJE4wcOZLN
mzczbdo0nJyccHFxoWjRoqxZswZLS0vKlCnDnTt3uHXrFocOHWLs2LF06dKF7NmzcyX5dQNLgBFA
faA9qb8P1jzz/BRglz07tra2lCpVCj8/Pz777DPd+uzZs7N3714OHTpEkSJFKFy4MKtXr37h1QBj
Y2N8fHy4evUqFSpUIG/evMyePTtV4Mo9xEJGuDKws2fPsmjRIvbs2UNUVBTFixdn3rx5XLx4kR49
emBpaanbVqPRcPXqVUaOHMnh33+naVAQ38fGogH+AFoDbYDkO0HjSPqUb/b0eTXA1sICy+bNKVi6
NOvXr+fevXsULlwYLy8vevXqpTtWzZo1OXHiBNevX8fZ2RlI+i6rV69ecmtEJtKtWzdsbGyeG3gi
pbt371K5cmVy29pi5O/PsMhIWgHPTscQC2wGZpiaEmhhwZW7d7G1tc2QupVS3L9/n9OnT6d6mJqa
8umnn+oeFSpUIFeuXK9sb9u2bXzduTPHIyMxf5M6gIaAc7duLFu58m1fjhBvTgmDKleunJo7d64K
DQ1V0dHRat++fer8+fNq1apVqlq1amnuc+zYMWUEahcoBSoaVGFQ3k+fJz8mger8zLIQUFmMjFSB
AgXU8uXLVVBQkJo9e7bKnTu3+vLLL3XHqFGjhsqRI4fq3bu3btn+/fuVq6trhr8n4vU9efJEOTk5
qSNHjrz8a72+AAAgAElEQVRwm6ioKPVJkSKqE6j4Z/49pPWIA9XVzExVK19eRUdHp0udDx8+VDt3
7lSTJk1STZo0UY6OjipnzpyqYcOGavz48Wr79u0qICDgrdtPTExUrRo2VM2MjFTca7xGBUoLanSW
LKqkq6tydnZWffv2VREREenyeoV4FQlfA7p69aoyNzdX8fHxz61buXKl8vDwSHO/QV5eqqWRkcoP
KhLUGFCN0vjjMhFUp2eWHUn6sK/69OqVqs2ff/5ZmZqaqrt37yqllKpZs6aaPHmysra2Vjdv3lRK
SfhmVps3b1ZFixZ9YVB2bdtWdTQ3V4mvGUoKVCKothYWqkfHjm9cT2BgoNq7d6/65ptvVIsWLZSz
s7PKnj27qlu3rho7dqzasmWLunv3rtJqte/60nWioqJUrVq1lGuuXKqBpaUKeMXrCwLV08xMlStc
WD169EiFhISorl27qoIFC6qjR4+mW11CvIiEr4EVLFhQtW7dWu3YsUOFhITolr8ofKOjo5WdpaW6
A6o1qKagcoD65zXD9xtQ9qCc7exS/fELDg5WWbJkURs2bFBKJYXvsmXL1LBhw1SnTp2UUhK+mVnr
1q3V2LFjn1t+9+5dZWdursLfIHiTH6GgspmZvfSMNDg4WB08eFDNmDFDtW3bVuXPn1/Z2NiomjVr
qhEjRqiff/5Z3bx5M12D9lmRkZGqTp066vPPP1fR0dFq5MCBKpuFhWpjaal+BxX79PXEgzoNqoe5
ubI1M1Nd27ZVYWFhqdraunWrcnR0VGPGjFExMTEZVrMQ0uHKwA4dOkThwoXp168fzs7ODBkyhKCg
IAD++uuvVPcKFi5cmAcPHmCt0ZAPWAgcAiaSdHvF6/gHqAIEh4en6qiTLVs2ihUrhr+/v26ZRqNh
7Nix7NixI9XweEI/Uk5UUKBAAQYNGpRqYAf4b7KBHj16sGzZMt0tMqtWrcLIyIgvunShk1aL1dPt
nYGUoz/7kzTMogtJvX4bA8m/aRugmlZL8WLFAIiIiODw4cPMnTsXBwcHHBwccHZ2ZuLEiVy7do27
d+8SHR2NhYUFlpaWfPHFF7Rr144CBQpkWAejqKgomjVrhoODA97e3pibmzPzu++4+/AhtWbOZLCr
KxYaDWZPH21z5aLAuHFcvXuXVRs36npXJ2vZsiW+vr5cuXKFSpUqcf78+QypWwgJXwNzcXFh+vTp
3Lt3jwMHDrB//37mzZuHRqPB3d091b2C169fJywsDOun90rmAuyBkm9wPGfgBGCTJQthYWG65SEh
Ifj5+T03k4y9vT0DBgxgwoQJ0kNTz1JOVHD8+HH8/f35/vvvdeuVUqxevZrSpUuza9cuZs2aRY8e
PYiPT7rpxs7OjkN//kmXuLj/2kzR/gPgE0ALbAV8AAfAHUgemqV5fDzh4eGUKFECBwcHRo4cyc2b
N7Gzs2PAgAGEhoayceNGfvnlF1xcXNi+fTs+Pj44ODjg7u6eoYO8REVF0bRpU5ycnPD29k51D7GN
jQ39+vfn/O3bDBo8mIlTpxKfkMCtf/9l3PjxqUawelauXLnYtm0bQ4cOpXbt2syYMYPExMQMex3i
4yThm4kkD7136NChF26TNWtWIl9z0IS0orIG8AgIjYsja9asuuV79+7VBf6zRo4cyaFDhzhz5sxr
HVekPwcHBz777DN27dqlW3b48GHCwsKYP38+GzZsoEOHDjg6OjJr1iw0Gg0FCxbEVKNh1wvanEDS
2e5mkgaaKAasIOk+2RFPtyn49L8LFiwgJCSEv/76ix9++AFHR0fy5MmDsbExEyZMwNHRkc2bN1Ox
YkWKFSvGihUr8PDwYMSIEc8dNz0kB2+ePHlYtWrVc4N3pBQaGoqDgwNGRq//506j0dCtWzdOnz7N
3r17qV69Ojdu3EiP0oUAJHwN6urVq8yZM4eAgAASExM5e/Ysa9eupWvXri/cx8nJiSfx8Tx+jfbT
uoesKtAIiElMZPPmzTx58oQ5c+YwbNgwhg8fTr58+f7b/+ldaLa2tgwfPpwZM2a80esT7y75d5A8
nWDNmjV167y9vWnZsiU1a9bEwsKCnTt3snjx4lT/phzMzZlH0vjFz/qDpMvMz2oMHEnx3EijIW/e
vGTJkiXNGv/44w8aN36+pcaNG3P48OHXfKWvLzl4nZ2dWbly5UuDFyA4OJhs2bK91bHy5cvHgQMH
aNeuHe7u7ixevFgGyBDpQsLXgKytrTlx4gRubm7Y2dkxbNgwOnbsSOfOnQE4fvy4bmLy5Iefnx8t
mzdn5Wt8in92MIFkxUxMqOLuzvz588mfPz/r1q1jwoQJTJs2LfX+KS4zDx48GBMTE7n0rEcqxUQF
+fLl4/bt23z11VdAUgBt3ryZtm3bAtC6dWtWr15Nvnz5mDx5MitWrECj0ZAI1AX+l0b7AUDlNJa7
A9FA8sjRWqWYOXMmCxcuZN++fdy6dStVAAUEBFC58vMtubu7ExMTQ2Bg4Nu/Cc+IjIykSZMmODs7
s2LFilcGLyR9pZI9e/a3PqaRkRGDBw/myJEjLF++nIYNG6brrFHiI2XI3l7i7Zw4cULlz5pVJbxF
D9YoUFag2rVrp7utSGROrq6u6uDBg0oppcLCwtT333+vHBwcVExMjPrpp59Ujhw5VEJCglJKqSNH
jihTU1MVGBioEhMTVZEiRZJ6HpuZqaOgbED9C8oZ1B9P/y0UATUyjX8j34Nyefrzzqe3pk2fPl15
eXmp2rVrq3z58imNRqMcHR1Vw4YNVbZs2ZSnp6fatWuXunr1qoqNjVVKKfX9998rCwuLdHs/IiIi
VM2aNVXXrl11r/t1lC1bVp09ezZdaoiLi1OTJ09WOXPmVOvWrUuXNsXHScL3PVWlbFn1P2PjNw7f
kaamqlH16mrcuHHKzs5O9e/f/50GNxAZJ2X4KqVUQkKCsrS0VPv371d169ZVpqamytHRUTk6OioH
Bwel0WjU/PnzlVJKTZ8+XZmYmKjPmjVT042MVDdQA58J356gSqTxb6RBilvUJhobK3MzM3Xx4kVd
HWFhYcrc3FwdO3ZM7dixQ7m7u6vs2bOr+vXrq4IFCyozMzOVP39+lSNHDuXi4qJmz56tfv31V3Xp
0qW3HrQjOXi7dev2RsGrlFJ58+ZVt27deqvjvsjp06dV8eLFVbt27VRgYGC6ti0+DnLZ+T31886d
/JAtG0tesxOJAqabmPBrrlys3rqVb775hitXrmBmZkapUqUYPnz4c7exCMNTTy/vRkREsGTJEiwt
LSlRogS///47u3btwtfXV/cYPXq0bpJ5R0dHnJ2duf3wIYvNzfkKWEnq736/Bh6SNCzpKeAK0B24
BnwJxAPLzMyo36ABU6ZM4fLly9y7d4/x48dTpUoVKleuTJMmTdi6dSsajYasWbOyfv16Tp48Sfny
5YmKiuLzzz/n3r17LFmyhFatWpEtWzby5s2Lp6cnvXv3ZubMmWzdupXz588TGRmZ5nsQGRlJ48aN
yZ8/P8uWLXutS80pvetl57RUqFCBM2fO4OzsTJkyZfjtt99eu5YDBw6wadMmtm3bxtGjR2W2sY+U
jO38Hrt+/ToNa9TA88kThsXFUewF250DZpiZcdnZmV0+PrqxmpPdv3+fadOmsX79ery8vBgxYkS6
zWQj3l7+/Pn5999/MTY2xsLCgho1avDFF19w4cIFNm/enGpydkj6PebPn5+///6bU6dOsWzZMqKj
o4l69Igv7t/nTmIii0m6N7z60338SZoB6xhJQZwdOA/kBqaZmLC/XDk2/vYba9asYf369URERNCx
Y0e6deuW6rY0f39/hg0bxrFjx0hISKBChQrMmjWLkiVT3wiXmJiIv78/N27ceO5x69YtsmXLRqFC
hXSPPHny8N1331G8eHFWr179Rj2Wk49nampKfHz8G+/7unx8fPjiiy+oW7cus2fPfu7eYYBz586x
cM4cNm3aRFkzM3JotSRoNNxViidZsuA1aBA9vbxwdHTMkBpF5iPh+54LDAxk3qxZLFu8mJJaLe0j
InAg6Uz3PrDG2hr/LFnoPXAgg4cNw8bG5oVt3b17l6lTp7Jt2zYGDhzI0KFDX7q9yPx8fX2pVasW
FkoxJTSU7i/53z2ApEnmRwNmGg3f5MjBsXPnyJPndYdweTdarVY3heCNGze4fPkya9asQavVEhsb
i4WFRapgTvmws7NLszNgUFAQBQsWJDg4OI0jpp+wsDCGDh3KoUOH8Pb2plq1akDSfNs9Onbkjz17
6BMbS4/ERJ6N13PAInNzNgLTv/2WPv37Z2itInOQ8P1AxMXFsXXrVnZv2sSTR48wMjIih4MDzTt2
pEmTJm80efeNGzf4+uuv2bNnD8OHD2fAgAGp7gkW75cJEyZw9OhRbl+6ROOgIIbFx5P/BdvuBiYZ
G/PY3p69hw9TuHBhfZaqExERQaNGjShcuDBLly5Fo9Hw6NGjNM+Yr1+/jkajSTOUTUxM6NChA7du
3dJL3Tt27MDLy4tOnTrx5Zdf0rpBA7L5+rImOhqLV+x7E2hoaUm3UaMYN3GiPsoVBiThK17oypUr
TJo0iT/++IMxY8bQp08fzM3fZMI2kRnExsZSvnx5Bg8ezNULF/BeuZLSUVH0VApHkq6SPAS8zcz4
KyGBPv37M+qrr8iZM6dB6k0O3iJFirBkyZJXXi5WShEUFJRmMF+5coXw8HDKlCmTZjg7OTml++Xo
x48f06dPH44eOEDl2Fg2x8byut9SPwQqW1oybckSOnz+ebrWJTIZQ/X0Eu+Pc+fOqWbNmqk8efKo
hQsX6m4lEe+P48ePKwcHB/X48WMVFBSkNBqNqv7JJ6rW00frevXUokWLlK2trbp//77B6gwPD1fV
qlVTPXv2VImJiW+0b758+dSBAwdSLdu/f7+qXr26OnXqlMqVK5fKlSuX6tatm/Lw8FCOjo7KwsJC
WVpaKiMjI2VqaqpsbW1VyZIl1fTp01VsbKyKiopShQsXVt7e3qnanTx5sqpatarSarWqRo0aSqPR
KF9fX936S5cuKVONRmlS9C5PfqwEpQH1cxo9zQNA1QdlYmysbGxsVJkyZdScOXNUYmKiun37ttJo
NMrKykpZWVmpChUqqKlTpz73HlhYWOi2sbKyUgMGDFDTpk3TPTc3N1fGxsa656VKlVJKKaXRaHQz
mCWbOHGibmIVkb4kfMVrO3HihKpfv75ydXVVy5cvT3MqRJF5DR06VH3++edq69atysjIKM0PUT17
9lTTpk0zQHVJtzB5eHi8VfAq9fytWUoptXHjRtWqVSvl4+OjcufOrXLmzKlOnTqlWx8eHq4+/fRT
1bdvX/W///1PtW7dWrm6uioTExNlZGSkihUrpipXrqwsLCzU9OnT1Z49e9Tu3buVra2tunr1qlIq
aQawYsWKqeHDh+va7dmli8oKyiGN8K0Jqgyoxs8sf0DSDGXNQRU0N1fbt29X586dU02bNlWhoaG6
8E1+by5fvqzy58+f6gNHWu/Bs140V3ha4Ttp0iQJ3wwitxqJ11apUiX27NnDmjVrWL16NSVKlGDt
2rUy6Px7YsqUKRw/fpxZs2bh6uqKqanpc9v07t2bpUuXon3N8cPTS3h4OA0bNqR48eL8+OOP6XYp
OPk2I29vb1q3bk3z5s3x9vbWrbeyssLKyooKFSowevRoNm/ezO3bt9mzZw9KKUaOHMno0aP55JNP
WLp0Kd9++y0tWrTQXRpv0KAB169fJ3/+/Hh7e3PlyhWCgoJYt349rYBnB+S8Cxwl6bav/cC/KdaN
B3IAvwBjY2JYMmcOZcuWZfv27Wl2fCxevDj169dPNd7361BJJ11vtI9IfxK+4o15eHhw6NAhFi1a
xIIFCyhTpgxbtmzR+x9s8WayZs3K0qVLOXHiBDVq1Ehzm08//RRbW1sOHjyot7qSg7dkyZIsXrw4
Xb+DDQ4OxsrKii1btvDZZ5/Rrl07NmzYoJv5KdmzPaVr1KiBnZ0djx49onnz5uzbtw+tVou1tTVl
ypQhIiKCXbt2MXDgQCwsLIiNjQWgTp06ODo6oo2Pp18a9awmaXKT8sCnwNoU6/4Emj39uRlw5MSJ
NF9TcnBeuHCBPXv2PPe7fJdgfXZfCemMI+Er3opGo6F27docPXqUWbNmMW3aNCpUqMDOnTvlf9hM
rESJEmi1Wt2c0c/SaDT07t2bJUuW6KWe8PBwGjRoQKlSpVi0aFG6d34KDg4mICAAGxsbqlatiqen
J8ArzxZNTEyoXLky//zzD5D0wWXBggX88ssvLF++HHNzc4oWLUrjxo1xdnamY8eOzJs3jxo1avDd
d99hpNHw/PxgSeHb9unPbZ8+T5Y81zaAHRAWE5PmB1p7e3uyZctG2bJl8fDwoEmTJrp1KsV44MmP
5cuXv8Y7laR8+fKp9p0xY4aM555BJHzFO9FoNDRq1IjTp08zYcIExo4dS+XKldm/f7+EcCa0ZcsW
TExMOHPmzAunruzYsSMHDhzg33//TXN9egkLC6NBgwaUKVOGhQsXZsggGCEhIVy8eJFWrVoBYGxs
TIsWLVJdek5LQkICx44dSzWQSIkSJQCeGzgEkv4/aNWqFb///jt79uzBIY1L+keBO0Crp8/bkDRv
8vmnz11IGuwEkkYXMzYySjP4njx5QkhICP7+/piYmOheW3Idv/76a6p5wHv06PHS15rS33//nWrf
MWPGyP/HGUTCV6QLjUZDy5Yt8fX1ZciQIQwYMICaNWvy559/Gro0kcKGDRsoUaIECxcupFevXkRF
RT23ja2tLa1bt2blypUZVkfK4F2wYEGGjT4VEBDA1atX8fb2xsnJCScnJzZu3Mhvv/32wrN/SJom
MTg4mIoVK772sSwsLGjYsCG7du0i3sjouSk9vUm6ras04ETSHMoAq57+tzqw4+nPtwEHW9uXnnXm
yZOHXr16sXv3bt1l7/QmwZtxJHxFujIyMqJ9+/ZcunSJ7t27061bN+rVq8eJF3x/JfRHq9Vy+vRp
mjVrRtOmTalUqRLjx49Pc9uM7HiVHLzlypVL9+CNi4sjJiZG97hy5QouLi5cu3ZNNwb2tWvXcHZ2
Zt26dbr9kkPGz8+P6dOnM2DAAFq0aKG7TP26pk2bho+PD9Y5cpDyukIMsBFYCvimeHwPrAMSgSnA
E5LG2h5vbEy7jh25cOECLVu2JCws7LlaHz58yPLly6lduzZmZmbPrReZm4SvyBAmJiZ07doVPz8/
WrduTZs2bWjatCl///23oUv7aPn6+pKYmEibNm0AmD9/PmvXrk3zg1HFihWxtrbm999/T9cawsLC
qF+/foYEL0CjRo2wtLTUPfz9/Wnbti25cuXSPRwcHOjTp49uEgqAAQMGYGNjg6enJ7t27WLIkCFs
2rTpufZf9f3nw4cP+fHHH7kTGMjcFKPK/QJkBboAuVI8vgASgL2AA0mXoM2BbVotP65cSefOnalV
qxZWVla6trJly4a1tTWVK1fG2NiYOXPmpKqhadOmqeYAb9269XOvIa3X8aJl8p1vBjHA7U3iIxQd
Ha3mz5+vnJycVOvWrVNNUSf0Y8yYMcrc3DzVPbTr1q1TJUuWVDExMc9tv2DBAtW2bdt0O35ISIhy
d3dX/fr1U1qtNt3afZnChQurK1euZOgxEhIS1LZt21T16tWVs7Oz+t///qfu3Lmj7Cwt1em3mHN7
urGxapjGfbjiwyLhK/QqMjJSzZw5U+XKlUt17NhRXbt2zdAlfTSKFy+uqlSpkmqZVqtVTZs2VRMm
THhu+5CQEGVra6sePnz4zscOCQlRbm5ueg1epZTKmTNnutSfltDQUDVv3jxVoEABValSJbV+/XoV
FxenW79161aV28JCXX2D4F0PKk/27OrOnTsZUrPIPCR8hUGEhYWpKVOmKHt7e9W9e3d1+/ZtQ5f0
QQsPD1cmJiZq9uzZz637559/lL29farhEZN98cUXasaMGe907OTg7d+/v16DV6vVKhMTkzTP6t/F
rVu31NChQ5WdnZ1q27atOnbs2Au3XbFsmXKwsFC/gEp8SeiGg5pqbKzyZM+uzp07l671isxJwlcY
VFBQkPrqq6+UnZ2d6tu3r/rnn38MXdIHaceOHcrc3Fxdvnw5zfVLly5Vn3766XNDhh4/flwVKlTo
rYZ7VEqp4OBgValSJTVgwAC9Bq9SSkVERCgLC4t0aUur1ao///xTtWrVSuXIkUONHDnytc9O9+3b
pyoUKaLyZ82qZhgZqeuggkE9AnUaVH8zM5XdzEy1qldPzng/IhK+IlN4/PixGjlypMqePbsaMmRI
hl0q/Fh16dJFWVtbvzAAtVqt8vT0VDNnznxueenSpV85XnBakoN34MCBeg9epZTy9/dXuXPnfqc2
YmNj1Zo1a1SFChVU4cKF1Q8//KDCw8Pfqq0TJ06oLm3aKDtTU5XVxETZWVqqorlzq/Fjxih/f/93
qlO8fyR8Raby4MEDNWjQIGVnZ6dGjx6tAgMDDV3SB8HBwUHVr1//pdvcvHlT5ciRQzdhQLLvv/9e
tWvX7o2OFxwcrCpWrKgGDRpkkOBVSqnz58+rEiVKvNW+jx8/VlOnTlW5c+dWnp6easeOHW999v+s
atWqqUOHDqVLW+L9JbcaiUzF0dGR+fPnc+7cOUJCQihatCgTJ04kNDTU0KW9t+7cuUNISAgtW7Z8
6XYFChTgq6++omfPnqnu7+3UqRN79+7l0aNHr3W8kJAQ6tWrR+XKlZk3b57BblVJnlThTVy+fJne
vXtTuHBhbt68ye7duzl48CBNmjRJt9ui/P39U42cJT5OEr4iU3JxcWHx4sWcPHmSu3fvUqhQIaZN
m0ZERIShS3vv7N27FyMjI+rUqfPKbQcOHEh8fDw//vijblm2bNlo2bLlK4dkhKSxlOvWrUuVKlUM
GrzJtbxO+Cql2LNnD/Xr18fT05M8efLg5+fHihUrKFOmTLrWlJiYyP3793F2dk7XdsX7R8JXZGoF
ChRg1apVHDlyhAsXLlCoUCHmzJlDdHS0oUt7b2zZsgULCwsKFCjwym2NjY1Zvnw5EyZM4N69e7rl
yZMtqJeMnpQcvB4eHsydO9fggzOEhISQLVu2F66Piorixx9/pGTJkowePZoOHTpw9+5dJk6ciIOD
Q4bU9O+//5I9e/ZUI1KJj5OEr3gvFC1alPXr17N//36OHDlCoUKFWLBgQYaNafuhSEhI4MiRI9Sp
U+e1w7BEiRIMHjwYLy8vXdi6u7tjbm6Oj49PmvskB2/16tWZM2eOwYM3uaa0znwDAgIYN24c+fLl
Y9euXSxYsIBz587RrVu3DA/Fe/fuySVnAUj4ivdM6dKl2bp1K9u3b+e3336jSJEiLFu27Ln5WUWS
kydPYmpqSqNGjd5ov9GjR3P//n1++ukn4OVTDSYHb40aNZg9e3amCF5Iqivlme+pU6f4/PPPKV26
NBERERw7dozt27dTq1YtvdXs7+9P3rx59XIskblJ+Ir3UoUKFdi1axcbNmxgw4YNFC9enDVr1pCY
mGjo0jKVPXv2EBcXR61atd5ovyxZsrBixQpGjBihm1qwU6dO7N69m8ePH+u2CwoKok6dOtSoUYNv
v/020wQvJF12trGxYcuWLXh4eNCmTRvKly/PrVu3+O677yhcuLDea5LOViKZRr3sSxwh3hOHDh1i
/PjxBAUFMWnSJNq0aZNh09S9T8qUKcOTJ08ICAh4q/3HjBnDzZs3dZMMdO3alTJlyjB8+HBd8Hp6
ejJr1qxMFbyhoaHUqVOH27dvU7RoUYYOHUqLFi0wSTHZgSEMGTIEFxcXhg8fbtA6hOHJXyfxQahV
qxaHDx9m7ty5zJo1i08++YRff/31o55eLSgoiGvXrtGgQYO3bmPixImcP3+erVu3Av91vHry5Al1
6tShdu3amSp4b968yaBBg8ifPz8PHjxg9OjRHD16lDZt2hg8eEEuO4v/SPiKD4ZGo6F+/fqcPHmS
KVOmMGHCBCpVqsSePXs+yhA+ePAgtra21K1b963bsLCwYNmyZQwYMIDg4GCqVKmCRqOhcuXK1KlT
h5kzZxo8eJVS+Pj40KJFC9zd3cmaNSvnz5+nQIECVKpUyaC1PUsuO4tkEr7ig6PRaGjWrBl///03
I0eOZOjQoVSrVu2FPXU/VLt37yY8PJyaNWu+UzvVqlWjVatWDBs2jKCgICIiIjA2NmbGjBkGDd7Y
2Fi8vb0pX748ffr0oUGDBty5c4fp06fj7Oz8XIerzEB6O4tk8p2v+OAlJiaybt06Jk+eTL58+Zgy
ZQpVqlQxdFkZSimFk5MTVlZW3Lhx453bCw8Pp0SJEpiZmdGoUSO8vb25efMm9vb26VDtm3n06BGL
Fy9m0aJFlClThiFDhlC/fv3nvuN3cXHh6NGjmeYyb2xsLDY2NkRFRWFsbGzocoSByZmv+OAZGxvT
uXNnrly5QocOHejQoQONGjXizJkzhi4tw/j5+RETE0P9+vXTpb3Y2FhMTU15/PgxU6dOpXnz5qxe
vTpd2n5dFy5coEePHhQtWhR/f38OHDjA3r17adiwYZqd6153hCt9+eeff3BycpLgFQAYvgeCEHqS
JUsWevbsSefOnVm2bBnNmjXDzc2NyZMnU7p0aUOXl6727duHtbU1tWvXfue2AgMDqVOnDu3ateP+
/ft8+eWX9O7dm549e9KlSxcOHTrEkydP0Gg05MiRA09PT+zs7NLhVYBWq2X37t3MnTuXy5cv069f
P65du0bOnDlful98fDwxMTFYWVmlSx3pQTpbiZQkfMVHx8zMjP79+9O9e3cWLVqku11m0qRJFC1a
1NDlpYvdu3fz5MkTatSo8U7tBAYGUrt2bRo3bsw333xDcHAwJUuWpFSpUgTfv0+B3LmpaW6OY0IC
AA9MTOgZH0+rFi3oP2IEFSpUeKvjRkZG4u3tzfz588maNStDhw7ls88+w9TU9LX2Tx5a0tCdwVL6
0G9B7nIAACAASURBVDtbabVaNBpNpnrPMzO57Cw+WhYWFgwbNoybN29SunRpPDw86NatG7du3TJ0
ae8kJiaGw4cPU6hQIXLkyPHW7TwbvBqNBmtra0oVKsTEvn0ZFhHBrfh4toeHsyQ6miXR0ewID+da
TAxFNm6kZfXq9OnWjYSnwfw6/P39GT16NPny5ePAgQMsXbqUM2fO0Llz59cOXnj1uM6G8KF1tkpI
SOCXX36hXuXK2FpYYGJsjHmWLBRwcGDC2LH8888/hi4xU5Pw1aPY2FjWrl1L81q1cC9enAqFClH7
00+ZMnEiDx48MHR5Hy0rKyvGjRvH9evXyZcvHxUrVsTLywt/f39Dl/ZWjh49So4cOV5rFqMXefz4
MZ6enjRp0kQXvAkJCbRp1Ajzs2e5qRSjlSKt7la5gDFaLZeiorizaRPtmzV75chjf/31F+3bt6ds
2bLExcVx8uRJtm79P3vnHRbF1YXxd+kd6QuIAooaFewdEFGJxhIbFkRFIbEiNiKxRBGNRo0osaEg
YImxRWONqGjEBhp7NwpqlCIive++3x8L+7HS7Un29zzzsDtz586d2WHeOefee86vcHR0fCNL6lPr
7wX+XW7nkOBgWJmYYPnIkfC4cAFxeXkoApAmEmFfcjJeBQbCrn59DOrRQxohTc5rfKQ8wv8pMjIy
+O2MGTTW1mZ3bW3+DPAcwFiARwCOU1OjnpoaB/fqxRs3bnzs5v7nSUlJ4cyZM6mnp0dvb28+f/78
YzepRvj6+tLS0pIHDhx4o/2Tk5Npa2vL2bNnUywWS9dPHT+eLhoaLADIai55AJ00NOg3dWqZ4xQW
FvKXX35h+/btaWVlxcDAQKanp7/xeZfm999/Z/fu3d9JXe+KL774gvv37//YzXgrxGIxZ3h7s5GG
Bi9X8dtnApylpEQrExM+ePDgYzf9k0Muvu+Z58+fs0WDBhyuqsp7ldyo6QADBQIaaWryyJEjH7vZ
ckgmJiZyypQp1NPTo6+vL1+8ePGxm1QtmjZtSoFAQBUVFaakpMhsa968OQUCAR8/fixdN2/ePAoE
AsbExEiFd86cOdy0aRPt7e1JkklJSaylpsaXpe7ZCwBdAAoBGgLsDHB/qe2pAD0B1gEoAGhvb88z
Z84wNTWVP/zwAy0sLAiAa9euZVFRkUw7w8LCKBAIOPU10d63bx8FAgE9PDwqvQa//PILXV1d3+Yy
vnOaNm3KK1eufOxmvBWL/P3ZXFNT5j6oalkrELCeqSmTkpI+dvM/KeRu5/dIeno6Pre3R99Hj7Al
Px8NKimrA2AKiX3Z2Rg5cCDOnDnzoZoppwJMTEwQGBiI69evIysrCw0bNsTcuXORlpb2sZtWIQkJ
CYiLi4OysjKsra2xfft26bYbN24gNzdXxo1LEps3b4atrS2Cg4Ph7OyML7/8EgsWLJApF7phAwYC
KBnD/DuA7gDqFX9+AmAWgB3F23MBtAEQByAUwJdqasjLzUWXLl1gYWGBGzduYO/evdKoZK9PvxEI
BKhXrx527dol47KOiIhAgwYNqnRFy93OlXP58mV89dVXsLCwgIGBAezt7XHp0qVK97l//z4CFy/G
oexs1GQs+3gSfV+8wOxp02rURicnJ4SGhtZon38S/2nxtbS0hKqqKl6+fCmzvkWLFlBQUJBJJv4m
TB07Fh2fPcO8oiJUt9eqI4CtOTlw7d1bnjD+E6F27dpYu3YtLl26hGfPnqF+/fpYuHAhMjMzP3bT
ynDs2DFYWFhAXV0d7u7uMnNxIyIiMHLkSJlQm9HR0cjIyMD8+fMRERGBvn37lhFesViM9atWYUJe
nnSdN4BhANYCaAZAHYALgK3F21cAeAkgEkA3AL55ebh35QpsbW1hYmKCLVu2VDkSWigUwtbWFkeP
HgUgiVV9/vx59O3bt8pwoWlpaZ+U+GZkZKCwsPCTaZOnpyeaNGmCW7du4dmzZ5g3b16VuYzXBwXB
UySCWfH36g+jA2YWFWH3nj01enH9t4+a/k+Lr0AgqJZ18CakpKRg72+/YVF+frWFtwQXAC1EImkm
mfeBPPVezbGyssKmTZtw7tw53LlzB/Xr18eyZcuQk5PzsZsm5ejRoygqKoKamhrat2+PjIwM3L17
FyKRCDt27IC7u7tM+YiICPTo0QNz586FpqYmWrZsWebeT0pKQm5WFloWf08A8BBA30ra8Qck93GJ
PdsBgEBJCd988w3i4uKqHIRTIq4jRoyQvkD88ssv+PLLL6uV8P5TCy1ZMs3oUxCU+/fv4+7du5g0
aRJ0dHSgpqaG7t27S+e6nzlzBsOHD4eVlRX8/f2RkpKCnJwcbA4Px9LCQmwG0AJAQwATAPi+Vv+X
AFYWf14CoD6AxgB0Cwvx3dy50nLh4eGwt7fHggULYG5ujh49euD8+fMAgNmzZyM6OhqTJk2CtrY2
Jk+e/B6vyMfhPy2+AKq0DoqKirBz5044OzujefPmCA0NRUFBAQAgJycHXl5esLS0hIGBARwdHaX7
jR83Dsr5+bAG0AhAVKljHoHkwdUQQCCArOL18ZD8IL8CuJGVhXFffy1NZg5IAgesXbtWGjB+3bp1
MlMXXr16hZUrV6JJkybo2bMnIiMjpdvmz5+PYcOGYfz48TA1NUVERMQ7uX7/RRo0aIBt27YhKioK
sbGxqF+/PoKCgpBXyjL8GIjFYkRGRuL58+dQU1MD8H/xOnbsGBo3bgxzc3Np+ZycHOzatQvR0dEY
NGgQRo8ejS1btpSpNz09HXrKytLvJWPAKwvQ+QwSwS1BAKCWsrI0h251R5L3798fp06dQkZGBrZs
2YJRo0ZVa79Pze38KbmcGzRoAHNzcwwdOhQHDx5Eenq6dNv169cxbNgwjB49GpcvX8bLly/h4+OD
EydOwK64ayAEQDiA25B4P3aUqvsVgGMAhhZ/rw/gDIC/AfQQiRC8fr1MWy5evAgAuHnzJtq3b49v
vvkGALBo0SI4ODhgzZo1yMzMRFBQ0Du+Ch+f/7z4VmUdrF27FsHBwfjpp5+wZ88ebN26VSpcYWFh
yM3NxfXr15GcnIzFixdDIBAgJSUF+/btw08k0iFxvVkW17cfgB8k/WOnAFwAsPi1Nu0EEA1AExL3
UMlDPTg4GGFhYdi/fz9WrFiBoKAgmTdpT09PxMXFISoqCrNmzcLo0aNl4vru2bMHjRs3RlxcHNzc
3N7ZNfyv0qRJE+zatQuHDh3CsWPH0KBBA2zYsAGFhYUfpT1Xr16Fqqqq1HoVCAQYMWIEtm3bVq7L
OTw8HDk5ORg1ahTmz58PV1dXaXCO0qipqSFPLJZ+L3ndO1dJW2qXsz1PLMatW7ckdVRzvquamhp6
9eqFgIAApKamokOHDtXKUPWpzfP91Ob4njx5EjY2NpgwYQJq166NKVOmIDU1FTt27MD48ePRrVs3
6OnpYd68eYiMjERiYiLqFs/X/gqSrgZVAPaQvFhFF9e7G5KXMmHx90HFn9UBTIHkBbF0WFdNTU3M
mTMHenp6GDt2LGJiYpCdnS3dXp3f+p/Kf158gYqtA5LYsWMHAgIC0KRJE9SrVw8+Pj7Yt28fAMmN
lJKSgmfPnkFRURGdOnUCIHFni0QiCAAUAqgDwLr4WDsAzATQHoApgG8B7HutPd9AItbN1NRgbGyM
P/74AwBw+PBhjB8/Hk2bNoW9vT1cXV2lN2dmZiYuXLiAJUuWwMTEBA4ODnB1dcXevXul9VpYWMDb
2xtqampSy0jO29OiRQscOHAAu3btwu7du9GwYUNERETUKLjEu+Do0aMQCoXo0qWLdF2dOnVgbW2N
I0eOYMCAAdL1ycnJUitj48aNMDU1xcCBA1FYWIht27bJ1GtkZITUwkJkFH83hcSi2V9JWxwheeks
uQIvAWSLRIiOjoaNjQ1MTEyqfV4jR47EihUryrjMK+NTtHw/JfG1sLDA4sWL8eTJExw/fhzHjh3D
ypUrceLECSxevBi6urrQ1tZG3bp1kZGRgbCwMIjz8wEA7UrVI4DEyi3puPsZwPBS2/cDGADArHi/
IrEY169fl25v0qSJNC63qakpioqKZLokPgU3/fviPx9essQ6cHBwQFxcnIx1kJ2djfPnz6NXr17S
8iSlN4SnpyeysrLQu3dvaGhoYMqUKfD09ISBgQEEAgHWk5gAwB3AbABGAI4DOAhgYqk2FABILvW9
efFfpYICKCoq4uzZs2jSpAliY2OxaNEiabmWLVsiLCwMgKSf5sWLFzAzM5NuF4lE6NKlC3x9Jb0y
7dqV/reR865p164dIiMjcfr0acyZMwfff/89/P39MXjw4HID/79rIiMjkZmZCWdnZxn3cWhoKNLS
0qCuri59IRg0aBBycnIQGRkJOzs7AJJ7e+XKldi8ebO0j40klJSU8LmzM0J//x3jAagB+AnAYAAq
kFhCNpBYuuEAtgCYBmATgM8hecGMAmAiFGL79u3YuXOnTLvz8/NlXPavR7Lq3Lkzjh8/jhYtWlT7
WnxqA66ePn0KR0fHj3JskkhPT0dSUhKSkpKQmJhY5nN6ejp++OEHiEQiKCkpoU6dOjAxMYFQKISJ
iQlevHiBl1euACJRGdEYBkn//kwAsQB+K16fDcm9sQGS++IOAAclpWpbs4qKihCX8rj82/jPiy8g
ax1s2rRJul5TUxPt2rXDqlWryk3KraGhgW+//RbffvstLl68iG7duqFDhw5o3Lgx9DQ08Eux++Qr
AEsBLAPgDKA/JA+u14l/7XtKURFSU1MRERGB0NBQpKamwsHBAXXr1oVQKERycjLS0tKwbNkyaGtr
Q0dHB5GRkbCwsIChoaHMA18gEMizqXwgHB0d8ccff+D48eOYO3cuFi1ahAULFqBfv37v7U0+KysL
Fy9ehEAgQPv27WW2WVtbSz8nJiaCJGxsbGBkZFQmCpa3tzdWrFiB27dvQyAQ4Ny5c1BXVwdJ7AEw
AxJvzueQ9O3NheTBWwTADv8ffKMO4FJx+a8APAbAJ09Qt25dFBYWyrzENmnSRKYNGzduhJKSksy1
Km3NVyd+8Kc24Opdu51JIiMjo0Ixff2zioqKVEw1NDSQlZWFjh07onXr1sjJycGNGzfg7+8PFxcX
DBo0CKtXr4aTkxNyc3MRGRmJjh07wnZ/+b6O5gAMAXgB6AHJtEkAyIRkPIspADGAbxQUIKqBmLZq
1QpXrlyRuVf+TcjFt5jyrIMSq/i7777D999/j+bNmyMhIQG3bt2Ci4sLDh06hIYNG8La2hqamppQ
UVGBmpoa7t+/jzoWFvj97l30haRvRLv4OCMAfAeJG6YDgFQA51F25GgagIeKirC1tYWnpyfGjBmD
n376CeHh4ZgzZw4eP36M5cuXQ0lJCUlJSbh27ZrEQvn8c4hEImRmZkJPTw8GBgawtrZGQkICCgsL
sWrVKgiFQplFR0fnX3lzf0wEAgG6d++Obt264dChQzIi3LNnz3d+vU+ePAlra2sYGRlBTU0NcXFx
ZcokJiaie/fuWLBgAeaWGnVaGjMzM+Tn54MkHj16hDZt2iAxMRHGxsa4d/kygsRiaV9VWwBHK2mT
HiRzfDcKBFhvY4PV4eGYOnUq+vfvD319ffj6+iI7Oxvq6url7l/R4KqAgIBKjirhn+h2JonMzMxq
C6qSkpKMdVryt3Xr1tLPJYuGhob0OM+fP8fUqVOxfft2ZGZmokWLFvD09MTUqVOhqqqKiIgIRERE
wN3dHWpqanBxcYGrqyucnZzw6++/l9t2NwDzIBmvUoIQkvEsIyCZ9/1SQQFtW7eWbi/vJar0d3d3
d8yYMQNGRkZwd3fHypUr8W9CwH9zj3YVWFlZITQ0FM7OzjLri4qKoKqqiri4OJiammLv3r3YvHkz
zpw5AzMzM0yYMAGTJk3CypUrsWrVKqSkpMDOzg4jR47E2LFjcePGDQwYMABxf/0FS0is3R8hEWBC
Mtp5MyR9YvqQ9JkshMTyrQeJZfGTQICYPn2QkJGBESNGYMyYMSgoKMCGDRvw448/wsjICIMHD0Z4
eDhu3rwJQDIPctu2bdi8eTMePnwIa2treHl5wcLCAhs2bMCTJ09gb2+PxMRE6T9xYmIiCgsLZf6B
y1tKtlX0oJRTOWKxGHv37sV3330HXV1dLFy4sMx99zZ4e3vj6tWr6NGjB2bPnl1me0JCApydneHm
5lah8AKSroo9e/Zg0aJFSEtLg3LxKGcfHx+0bdsWPZ2csC0vDz2r2a79AL7S1sYfsbFo1KgRAIkV
OG3aNOzfvx8KCgpwd3fH/PnzUbt27ZqedrmQhLKyMnJzc6Xt/1iUCKqRkREOHjyIjIyMSoVVUVFR
Rjgr+mxiYgJNTc0Pei5RUVHw/vJLXM3KQk2vajiA7R064Oi5yobp/bf4T4vv+6SwsBCWxsY4kpYG
uxruKwbQWFMTIb//Dnt7+wrL+fr6Ij8//62H4WdnZ0v/+V8X5tcXNTW1SsW5ZDE2NoaSktyx8jol
I+rnzZuH2rVrIyAgoNLfuDLS0tKQlJSEvLw89OvXDyoqKggLC0PHjrKTgBISEtClSxe4u7tjzpw5
5dZVWFiIn3/+GQsXLkR+fj5ycnJgZ2eHKVOmoFevXlBUVMThw4fh7u4OpYICzMjJwThS6mIs0zYA
qwEsU1ZGZHR0ueMN0tLSsHDhQqxbtw4FBQWwt7fH999/jw4dOpQpWx3++usvREdHIyEhAf7+/oiI
iEDPnj2hq6v7RvVVRlZWVrWs08TERACSfu127dpVKKglfz+0oNYEkujVpQtqx8QgOC+v2vELrgJw
0dDAgago+biTUsjF9z3yU2AgQufMQXROjtTtXB1mqqggxs4OJ2NjZdwwiYmJePjwIdq1a4cjR45g
0qRJWLNmDXr37v3uG18OJKUP/PKEubRop6SkQE9Pr0qLWigUQk9P74MMSPqUKCoqwpYtW+Dv749G
jRohICAAbdq0qXI/sViMEydOYO3SpThx+jSEqqpQIZGQlYU8AFNnzsS4SZOkVmSJ8I4YMaJcizgv
Lw9hYWFYuHAhAEkkpkGDBsHHxwfNmzeXljt+/Djc3Nywf/9+GBgYYPaUKTh24gSGCgQYlpcHISRe
nUQA29TUsAtAd2dnXH3wAH5+fhgzZkyF55Sfn4+NGzdi4cKFePXqFSwsLDBv3rxq5e8ViUQ4dOgQ
1i5dij///BM9FBWhX1CAnMJCJGpr40xhIYYMGYLxU6eiWbNmldaVlZVVLTFNSkoCyTLCWdHne/fu
wdPTE1evXq30+P8EMjMz0a1DBzR++BDBeXmoKsnjaQCu6upYu3kzBg4a9CGa+I9BLr7vEZKYMGYM
ru/cid9ycspNvyZTHsAcZWXsEQpx9sqVMrlYnzx5gl69euHRo0do164dvLy8MHjw4E/SwhSJREhJ
SalQnEsvWVlZMDY2rpZFraWl9a/qny4oKEBoaCgWLVqEVq1aYcGCBRWKxLVr1zC0Tx+ovHqFiVlZ
cAOgVWr7LQDrVVWxDcCQoUPh5++Pzz//HCNHjsSsWbNk6srOzsb69evx/fffQ1FRESKRCN7e3hg3
bhyEQqFM2dOnT2PQoEHYs2cPHBwcpOufP3+OkPXrcWjnTqSmpaGgoAAFeXmY5OcHz6+/hlAoxO3b
t9G5c2ecOnWqzMCq1xGLxThw4ABmzZqFR48eQUVFBZMnT8bkyZNhZGRUpvyrV68w4PPPkXXnDryz
sjAYkpHYpUkAsFFREWuVlODYsye6uLggOTm5XEEVi8WVimjpdTW5D/ft24dNmzZhfwUDlv5pZGdn
Y8SAAbh45gzG5ufDSyRC6TtGBEm877VaWrgoEGDbnj3o3r37R2rtp4tcfN8zYrEYs2bMwNbgYEzK
y4OnWIzXHyOFkMz1DdLSQqGlJfafOAFjY+OP0NqPQ35+vsyDsLIFQIXC/LpoVycM4adCbm4ugoOD
8cMPP8DBwQH+/v747LPPpNvPnDmDAT16YGV2NoYBlbr8MgC4q6vjHInJ336L7777TrotLS0NgYGB
WLFiBRQUFGBiYoJvv/0Ww4YNK3fu94ULF9C3b19s374dXbt2rfQcnj17hlatWkl/pxLCwsKwfPly
XLx4UWbgT2XExMRgzpw5OHPmDEiif//+8PPzQ7NmzZCTk4MHDx5gcO/e+DwxEYFFRahqHH8yABdF
RaB+ffRxdS1XULW1td/Li11QUBDu3buHNWvWvPO6PyZXrlzBusBA7Nq1CzYqKtATCJAH4FFhIUxq
18ZEPz8MGTKk2r/5fw25+H4gLl26hLU//ohf9+1DNyUlWOblQVksRoqqKg4BaPDZZ5gwc6a0705O
+ZT0tVVlUSclJUFTU7PKAWRCoRBGRkafzDSs7OxsrF69Gj/++CM+//xzzJs3D2KxGA6tW2NLZiZc
qlmPCMBAJSWo9+qFn/fuRUpKCgICAhASEgKSaN++PebOnYsuXbpUKDiXL19Gz549ER4ejp49qx5i
RRJaWlpISEiAjo6OzPqRI0dCVVUVISEh5e6bm5tbrov33r17OHv2rDTJiUAggIKCArQVFTGooADB
ZLX7HtMBOGhoYOz332Oij08193p7fH19YWhoiJkzZ36wY35I0tPTcfv2baSlpUFNTQ1mZmZo2LDh
x27WJ49cfD8wqampOHDgAJKTk6VZThwcHNC0adOP3bR/FWKxGK9evap08FjJttTUVBgYGFTLoq5V
q1aV1pGlpSUSEhLw/Plzma6DFi1a4Nq1a4iPj5fG+Z0/fz4WLFiACxcuyMwlz8jIwJw5c7B+/XpQ
LIaySARbAOMBeEASmtQZkhCkgGSupVvx9hJKetEVit3KgCQwS4MGDXDw4EEAErc3SamXwNHREWvX
roWVlRWMjIwQHByMfv36AQA8PDxgYWFR6VSfZs2aYdOmTWjVqhXy8vKk1z4+Ph6TJ0+Gg4MDhEJh
GZHNz8+XsUJPnTqFvLw8KCoqwtzcHC1atICenh527NghaW9WFtoAuAJAGZJpeysgCWtZQigk4Q7P
QzLToBMkwW561KqF4+fOYd26dTh06BBSU1NRr149BAQEVOslo6YMGTIEX375pTykqxwZPr3Own85
+vr61Q4OL+fNUVBQgIGBAQwMDKrsaywqKsKLFy/KCHN8fDxiYmJk1uXm5lYoziXrRSIRLC0tsX37
dkyaNAlA1bl0N2/eLCO+jx8/RlhYGHr06IHjhw7hCYD7kMyb9CguY47/Jzn4ExIx7g5J6McSvoVk
1LH37NmYPn16mbmv/v7+ePjwoUxykePHj0ujXZUIL/D/sKmPHz+ucDDS8+fP0adPH2RnZyMvL09m
akynTp1w+PBhTJs2DY6OjjJuX11dXZlrU3oa4M2bN9GnTx8EBARg5cqV6NSqFe7cuwczSLLnpAP4
AZJMOzcBmAC4BmAOgAMAWgJ4UfzZFkA9kQgeHh5wcnJCTEwMatWqhdjY2PcWR/hTCy0p59NAbvnK
kVMDXnePlmdNlyQlF4vFsLa2hlAoRFJSEvT19REbG4vFixejSZMmeP78Ofz8/LBjxw4MGzYMCQkJ
0nmp3bt3h4KCAuzbt8fzpUux7rWMSacgCV5QOjdQz+KlJPmaAoDLALqoquLu48flxlOeP38+7t+/
jyVLliApKQmXL1+Gr68vMjMzMXHiRCQnJ0vPMy4uDiKRCGZmZhUOSioZDe3v71+ul2D9+vVYv349
Lly4UGl88dfn4I8bNw5paWlYu3YtTAwN0YVE5Gv7NAbgACAYksQliZCEuHydzQA8BAI8fvz4g4ii
hYUFzpw5g7p16773Y8n55yC3fOXIqQHq6uqwtLSEpaVlhWWsrKywceNGTJgwAatWrYKamhpcXV3h
5uaGmJgYXL58GadPn0ZMTAzy8/PxxRdfSIW6QYMGUrdr79698UtICNZUkapQDCAGEvfq969t0wbg
qKCAuXPnwtLSsoylGh8fj4KCApw+fRp6enp4+PAhPvvsM1y+fBn16tWDvb29VFgXLFiAevXqSacl
lUdOTg5OnjxZYXSpsWPHIioqCtOnT69yAFKJXXD16lX8/vvvmD59Om7dugUxif7llO8FiXULSMIc
9oUkqUlvAK3w/0FqvQEoCgTw8PDAuHHj4OTkVO5o6ndBSaKA0jHX5cgB5JavHDnvHCsrK4SEhODC
hQvIzs6Go6MjAgMDcfjwYSgrKyM+Ph6GhoYwNTXFrl270K1bN4wfPx4PHjzAt99+i/v378Pb2xvD
hw9H5O7dOJWXh89eO8YpAF0hiaMrgiSGrh9kxVcBEvHNA1BYPFCpUaNG0vi+ampquHfvHrKzs9Gm
TRscOnQIjRs3Ru3atbFnz54yA/+Kiorw2WefwdbWFiTLXVJSUnDjxg1pbuvylsLCQpw9exY2NjYw
NjYut8yFCxekYV5FIhFMTExgbW2N5ORkPHz4EFfw/wQkJewBMBKSgP4AcAISl/sxSNIgzoTEZS+C
xOpYtGgRwsPD8eTJE7i5uWH+/PnvPOfukydP0KFDBzx79uyd1ivnn4/c8pUj5z1QWbYsANi7dy+U
lZXRtWtXKCgoYOTIkXB2dkbLli3RtWtX+Pr6on379rgUFQU+f17uMczwf7fzX5C4m30ArCpV5gqA
AAUF3G/fHg4ODjA0NISGhoY0rm5OTg4SEhIQFRUFFxcX9OzZEy9fvsSvv/6KdevWQVFRUVp248aN
0NfXR58+faTrXl/S09MxZcoUjBo1qsIyAoEAvXv3xrx58zBt2jSYmZmV2e7m5oZvvvkGLVq0wPnz
5+Hv74+vv/4a6enpmDZlCs6hrPieh8TSLaFr8VIAIAKAJyRuaRMA6srKmDVrFmbNmoXbt29j3Lhx
mDNnjkzf97vg6dOn71zQ5fxLoBw5ct4plpaWPHHiBEnSycmJurq6zMnJYWFhIQUCAePj49m9e3eq
qKhQKBRSKBTSxMSEAoGAq1atIkl2796dLi4u7NS0KY8B5GvLSYC1X1u3DaB5qe8CgA8BdldWEOv+
FgAAIABJREFUZuvWrWlra0tNTU0aGBiwTZs2HDJkCNu1a0d1dXV6eHgwLi6OhYWFjIuLo0AgoEgk
kjkvDw8Pzpkzp9JzF4vF1NbWZmpqapXXaeXKlWzTpg3z8/MrvYYkOXPmTDo7O/PevXtUUVBgz3Ku
SSOAX5ezvmSpDzAU4CWA9YVCmeNt2bKFtWvXrrLNNeXnn3+mq6vrO69Xzj+f/1ZMPzlyPjChoaGI
ioqSSUjx7NkzREVF4dChQ7h27Zp0mTlzptTy+vHHH3H+/HmkicX4QVER+ZD06/ap4DjxALaWsz0F
QKyiIo4ePYrr168jMzMTt2/fRlBQELp27YqbN29Kk4g4OjpCU1MTnTt3BkmMHz8eS5cuxe7du3H5
8mXkFydTrwyBQAAbGxs8ePCgyrKTJ0+Gqakp/Pz8qiw7Y8YMnD9/HqtXr4aGoiJOQWLJ3oUkh+wA
SEY0+xeXjwBwGJK0dpnF35MADIQktWf8ixeYOHEinj17htu3b2Pjxo3vZRaCfKSznIqQu53lyHmP
lM6lW0J0dDRatGhRJpfu5MmTsWLFCly6dAk3btxA/fr1cfv2bdwWiWACoBGASaXKP8f/U1XWxv8T
mpfGAYC4qEg60varr77CihUroKamBh8fH9ja2sLGxkYq+vn5+Th79iy6d+8OW1tbxMfH48KFC3j0
6BFu3boFJSUlHDlyBNbW1mUWCwsLKCsrS8W3vBzYpREIBAgLC0OLFi3g5OSEvn1fT6wpCary66+/
YsuWLRCJRNi/fz/GTpuGM0FBSMjNRWdIHmKdIHGxl4Q51IGk//s2JLmFO0PycgIAh5SUoKWlhXXr
1mHt2rXQ09NDv379MHXq1Erb+yY8ffoU9evXr7qgnP8c8gFXcuR8ApDExYsXERISgl27dsHBwQFe
Xl744osv4DlsGCz27MHCGv6rZgCor6CA1du3Y/DgwdL1WVlZ6NGjB+zs7LBmzZpqh1QkiZcvX+LR
o0flLgkJCTA3NwdJ6Ovrw9XVVUac9fT0yj3WuXPn0L9/f1y8eBF16tRBUVERjh8/jq1bt+LgwYNw
cHCAu7s7+vbtC3V1deTm5sLK1BRb09PRrZx2VsY0FRUk9uiBn3/7DdeuXcPKlSuxY8cOAJKBct99
9x0GDhz4xvHSxWIxjh07hvPnziEtORlHIiPR0dERAQEB7yxlopx/B3LxlSPnI/Ly5Uts3boVISEh
yM3NhaenJ0aNGiWdmpKeno7Bgwfj/IkT2CgSYUg1680D0FdDA0XNmuHGgwf45ptvMG3aNBQUFKBX
r17S6VDvMptUQUEBnjx5guDgYJw6dQpOTk4y4iwQCMq1mK2trfHLL79g9+7d6Ny5M3bu3AkLCwuM
GDECQ4cOLXca0OnTpzGoRw8cyM1FdZPULVNURKipKc5duwZ9fX3p+oyMDGzevBnLli3DixcvoKqq
ismTJ8PHx0emXGWkpaUhdONGrFuxAtpZWeidlQV9SAZ73VdWxl4FBXTp3BkTZ858p3mc5fyD+Xjd
zXLk/DcRiUQ8duwYhwwZQl1dXQ4fPpwnT54sM8Dp6tWrrF+/PidMmMDY2Fia1qrFQAUFFlYyqIgA
nwFsJRCwU4sWLCws5KNHj+jk5MT27dvT3t6ebm5uLCoqem/nd/78ebZu3VpmnVgsZkpKCmNjY/nL
L7/w+++/p5eXFzt27Eg9PT0KBAIKBALq6Ohw4MCBXLRoEbdv386YmBi+ePGCYrG4zHEOHjxII01N
/gQws5LrEQ/wKxUVNq5bl48fP66w3WKxmGfOnGHPnj2prKxMZWVl9uvXjzdu3Kj0fO/evUsrExMO
U1fnOYDictqQAXAtQGsNDfqMG/der7+cfwZy8ZUj5wPx9OlTLliwgJaWlmzevDlXr15d4ajgsLAw
Ghoactu2bdJ1Dx8+pJmODo0UFDgfYEKph7sY4CmAgzU0WEtNjV+PGkVDQ0PGxsaSJPPy8mhra0sV
FRUuW7bsvT78U1JSqKurW65gkmR6ejo3bdrELl26UF9fn1999RWjoqJ44cIFGhgY0Nvbm9988w0H
DRrEli1bUldXl9ra2mzWrBn79+/P6dOnc82aNTxy5Aj37dvHto0bU0sgoLeKCqMAXgf4J8C9APtq
aVG/WPCqMwK7hOTkZM6dO5d6enpUUlJio0aNuHPnzjIvSH/99ReFuroMFQgqfSEqWVIBdtbQoJe7
e4XXR85/A7n4ypHzHsnPz+eePXvYs2dP6uvrc/z48fzzzz8rLJ+Tk0MvLy82bNiQN2/elNl2+PBh
2tjY0NramlqKitRSUaGuigqF6upUU1Jio9q1GbRqFdPS0kiS+/bto7m5OePj4+nq6so+ffrw1q1b
tLe3p729PR88ePDezltPT4/JycnS7wUFBTx48CCHDBlCHR0dfvnll9y9ezdzc3Nl9jt16hSFQiGf
PXsmsz41NZWXLl3izp07uWTJEn799dfs1q0bra2tKRAIqK+vTysLC1rWqsXaOjqsZ2TEDo0bMzAw
kJmZmRW2s27dujx+/LjMupMnT1IgEFBLS4taWlpUV1engoICFRQUqKurSwsLC6qpqfHRo0dsaGHB
9QoKPAbQspTI1gVoDDC71LqNAJ2KreAWGhpcvWoVg4OD2bJlS+ro6NDW1paLFi2SCnxQUBCbNm3K
goICadsCAwPZokWLMi8Bcv55yMVXjpz3wJ07dzhjxgyamJjQ0dGRmzdvZnZ2dqX7PHz4kC1atOCQ
IUOYkZEhsy0/P58NGjTg5s2bqaWlRXt7exYVFfHly5f8+++/mZ2dXa4lFRAQQH19fXbt2lUqdCKR
iIGBgTQwMGBQUNB7eZC3bduWZ86cYWxsLL29vWlsbMwOHTpw7dq1TElJqXRff39/Ojk5Vcs6P3To
EG1tbfnw4UMeP36cGzZsoJ+fHwcPHszWrVtTX1+fWlpatLOzY79+/Tht2jSuXr2ahw8f5t27d1m3
bl2Z+cSkRHzLm/P7+PFjjh49mgKBgABoYGBAe01NEihXfA0Bfl+O+BLgRYA66uo0MzPjihUrmJqa
ypCQENrY2HD48OEkJW5we3t7zps3j6Tk/tDV1eWVK1eq+SvI+ZSRi68cOe+IrKwshoWF0d7enkKh
kDNnzuS9e/eqte9vv/1GIyMjBgUFlSuiy5Yt4xdffMHw8HBaWloyMDCwyjpFIhE9PT1pbGxMV1fX
MvXeu3ePHTt2ZOfOnfnw4cPqnWQ1iIuLY7NmzSgUClmvXj3OmzevRlZ2UVERu3Tpwvnz51dZ1sHB
QcY1Xx6vXr3i5cuXuXv3bi5dupTjxo2ji4sL69evTwA0NDSko6MjPTw8uGDBAs6aNYvGxsZMTEws
97fo3Lkze/fuTQAMKhbT18XXEuASgPoA08oR37jiICh+fn4ydcfExFAgEPDcuXMkJb+Rjo4Ob9y4
QWdnZ86aNava11HOp41cfOXIeQvEYjFjY2M5duxY6unpsXfv3ty3b5+Mq7AyCgsL6efnRwsLC+kD
93USEhJoYGDAe/fucejQodTS0mJ8fHyV7Zo4cSI7duzI5ORktmnThosWLSpTrqioiMuXL6ehoSHX
rl37xlbwq1evuGHDBjo4ONDAwICtW7fmqFGj3rhf8/nz5zQ1NWVUVFSFZc6ePUtLS0sWFha+0TFI
SSStn3/+mVFRUQwJCeGsWbPYpUsXqqio0NDQkBoaGmzatCn79u3LKVOmMCgoiLa2tpw8eTI1lJTo
Von4Hgc4AOCccsR3G0BFgJ936iTTHpFIRBMTEy5evFi6bvHixTQwMGCjRo3KjQYm55+JXHzlyHkD
Xr58yVWrVtHOzo7W1tZctGgR//777xrVkZCQQCcnJ3bv3l2mf/R1PDw86OvrS5FIxFq1arFp06aV
1isWizl9+nS2bt1a2v/77Nkzmpubc+/eveXuc+fOHbZt25Zdu3atUthLyM/P5759+zho0CDpKOW9
e/cyPz+f27Zte+uwipGRkTQzM2NSUlK52/v27cs1a9a81TFeD2NJStzOCgoKrFWrlnSwl5aWFhcv
XswJEyZQX1+furq67AhQF+CtCsT3BMCbxWVevCa+P0ASDtPa2LhMm/r06cOJEydKv0dHR1MgEFQZ
2lPOPwu5+MqRU01EIhFPnDjBYcOGUVdXl25uboyKinoja/H06dM0Nzfnd999V2nfZkxMDE1NTZme
ns5Lly6xVq1a5VqwpZkzZw6bNWvGly9fyqyPjY2lkZERr127Vu5+hYWFXLJkCQ0NDblhw4ZyrVax
WMzz589zwoQJNDQ0pL29PYODg8uMJI6NjWXz5s0rbWd1mDVrFl1cXMpc45s3b9LExIQ5OTlvVX9F
4ltZnGcnJyeOGTOG7lpanA1wYLGVW574EuBwgNMBhrxm+SoD1NfUlKlbJBLR2NiYS5YsISl5wWnc
uDF9fHyoq6vLR48evdX5yvl0kIuvHDlV8Pfff3PhwoW0srKinZ0dg4KCyghbdRGLxVy2bBmNjY15
5MiRSsuKRCK2bduW4eHhJMlFixZRU1OTd+7cqXCfhQsXsnHjxhVa0tu3b6elpWWF1iQpEbZWrVrR
xcWFT548ISmZUjN//nzWr1+fDRo0YEBAQKVC8OrVK2ppab31dJrCwkJ26tRJxg1LkqNGjeLChQvf
qm6yavEtKirikydPePr0aUZERNDf359CoZCmpqbsJhAwrbhf94dKxPcvgDoA/UuJ7yOAKgANtbRk
jn3hwgUKBAKePXuWpORFytnZmaQkuUT37t3f+pzlfBrIxVeOnHIoKCjg3r172atXL+rp6XHcuHG8
ePHiW4lJWloa+/fvzzZt2lTLtRseHs62bdtKrb6WLVvSwsKiwvLLly+njY0Nnz9/Xmm9s2fPpr29
faX9hwUFBZw1axa1tLRYr149Ghoa0tvbmzExMdW+BkZGRlW2pTo8efKExsbGjI6OJikZdaynp1ej
ebsVYWlpyW3btvHUqVMMDw/n/Pnz+cUXX1BVVZX169enqqoqTU1N2aFDB7q5uXH27Nls2LAhhw8f
TmsNDYoALioW4IrElwC/Ki7jVGpdf4AqyspcsWIFU1JSGBISwgYNGnDYsGEkJUFWdHV1pYPhcnNz
aWNjw7CwsLc+bzkfH7n4ypFTinv37vGbb76hiYkJHRwcGB4ezqysrLeut3S0qry8vCrLp6en09TU
lDExMSTJjIwMqqio0NfXt9zyq1evppWVldRSrQyRSMR+/fpxzJgxZYQ0Ly+Pe/bsYb9+/aijo0MX
FxdaW1uzR48eNe7T7tixI//4448a7VMRBw4coIWFBVNSUujj48Pp06dXa7+SyFoXL17krl27uHTp
Uk6YMIE9e/Zko0aNpNOGSi/16tWjgoICNTQ0pHN9tbS0+Ouvv5KUuJ1DQkLYzNqakQCziuf0WlUi
vk8BqgHsUmqdi5YWR48ezZYtW1JbW5u2trZcuHAhxWIxi4qK2Lp1ay5btkzmfE6dOkVDQ8NKxwjI
+WcgF185/3mys7MZERFBBwcHmpiY0NfXt1LXbk0pL1pVVfj6+tLDw0P6/bfffqO6unq5ATo2btxI
CwuLGvUHZmZm0s7OjoGBgRSLxYyOjubXX39NfX19Ojk5MTQ0VDpYq6CggP7+/jQyMmJERES1Ld9R
o0YxJCSk2m2qiunTp9PFxYW1atWSeRFIT0/n1atXuW/fPgYGBnLy5Mns27cvbW1tqa2tTV1dXTZv
3pz9+vXj1KlTGRQUxP379/PGjRtl5lPXhOD169mveJ5vTZf7AI20tcsEGZHz30GeWEHOfxKSuHz5
MkJCQrBz5060b98eXl5e6N27N5SVld/JMfLy8uDt7Y3o6Gjs2bMHTZo0qdZ+9+7dQ9u2bbF06VIo
KytDR0cHYWFhOHfuHFJTU2UyA23duhV+fn44efIkbGxsatS+kydPom/fvtDU1ISBgQFGjBgBNzc3
1KlTp9zyV65cwahRo2BpaYng4GCYmppWWv+iRYuQmZmJJUuW1Khdr5OTk4P4+Hjcv38fHh4eUFdX
R6dOnRAXF4e4uDjk5+fDysoKVlZWsLS0lPlrZWWFWrVqvdXxKyI7Oxv1zc2xKT0dPWuwXxGAL9XV
0dLbGwE//PBe2ibnH8BHFn85cj4oqamp/Omnn9isWTNaWloyICCAT58+fefHKYlWNXjw4GpbV2lp
aQxatYqGamq0VlGhq7Y2R2lqsr+ODnUB1tXX586dO6VziHfu3EmhUMhbt25Vu13Jycn86aef2LZt
W5qYmHDw4MHU09Pj7du3q7V/fn4+58yZQ2NjY27durVSK3jHjh0cMGBAlXXm5eXx/v37PHr0KNev
X08/Pz8OGTKE7dq1o7GxMVVVVdmgQQN27dqVKioqVFdX56JFixgTE8Pk5OSPGiP57NmzNNTQ4Mlq
WrwFAEeqqbF7p07Vngsu59+JXHzl/OsRiUSMioqim5sbdXV1OXToUB4/fvy9xcfdv38/jYyMuGrV
qmoLw4kTJ2ikrc2Bqqo8hbKZcfIB7gDoqK3NRnXqMDg4mCYmJrx69WqVdefk5HDHjh3s3bu3dIrU
kSNHpMEpQkNDaWNjU6MR3BcvXmSTJk3Yr18/JiYmllvm8uXLtLW1lWZWioqKYmhoKOfOnUt3d3d2
6tSJ5ubmVFFRoZWVFZ2dnenp6cmAgABu3bqVZ86c4bNnz6S/06pVqzhgwADu3r2bVlZWfPXqVbXb
+z45ceIEjbS06K+oyMQKRFcMMAqSpAq9unSpNN60nP8GcreznH8tz58/R3h4ODZt2gQNDQ14eXlh
+PDhMDAweC/HKyoqwty5c7Ft2zbs2LEDHTp0qNZ+hw4dwmhXV+zMzYVTNcqvVlDATBJb9+xB//79
yy0jFotx+vRpbN26Fb/++itatWoFd3d3DBgwANra2mXKT58+HdevX8eRI0eqnUg+Pz8f/v7+CA0N
xbx582BnZ4e4uDjEx8cjLi4ODx48wNmzZ6GkpAShUCjjCi7tHjY3N6/ymIWFhahXrx52796Ntm3b
YtKkSUhMTMSuXbtk3PAfi/v372N5QAB27d6NHgoK6J2TA30A+QAeCQQI0dSEQF8fE7/5Bl+PHVvt
ayzn34tcfOX8qygsLMThw4cRGhqK6OhoDB48GF5eXmjduvV7fUgnJSVh6NChUFJSws8//1xuAvjy
uHnzJpzbt8eB7OxqJ4UHgPUCAX40NcXlu3dlxPTOnTvYsmULtm3bBl1dXWk/rrm5eaX1iUQi9O7d
GzY2NggKCpLZRhLJyckywlr6b3x8PMRiMWrVqgVHR0d89tlnUnF1c3PD+fPnUa9evRqcXVk2b96M
8PBwREVFAZD0p3fs2BFeXl6YMGHCW9X9LklLS8PmiAici4xEWmoqVFVVIaxTB26ennB0dPwkXhTk
fCJ8VLtbjpx3xP379zlz5kwKhUJ26tSJmzZt+mCuvZJoVXPnzq1xnly3fv1oDVCv2LVc4qYchf/H
BH59EQB8CHCAhgZX//QTExMTGRgYyJYtW9LMzIwzZsyoMIpVeYjFYr58+ZKnTp2iubk5BwwYwAkT
JvCLL77gZ599RnV1dWm85kGDBtHX15dr167l4cOHeefOHebk5DA3N5e+vr4UCoXcvXu3tG5HR8cy
QSxqikgkYpMmTXj06FGZ9ffv36ehoaE8y4+cfyRy8ZXzjyU7O5ubN29m586daWxszBkzZlR74NC7
QCwWc/ny5TQ2Nubhw4drvH9SUhK1VVSoDrAhwF2lBNYD4NwqxPckQEM1Nero6HDEiBGMjIysUPwz
MjJ47do17tu3jytXrqSPjw+//PJL2tnZUUdHhzo6OmzWrBm7detGDQ0NTpo0ib/99huvX79eo+k4
Z8+epY2NDYcOHcqUlBR6enpy/fr1Nb42pdm/fz9btGhRbv/5zz//TBsbm7eaMiRHzsdA3vEg5x/H
5cuXERoail9++QXt2rWDt7c3+vTpAxUVlQ/WhvT0dIwePRp///03YmNjUbdu3RrXEbphA2zEYpgD
aAcgAsCgUtur6g/qDECPRNCOHXB0dMTjx49x9OhRqUu4tHs4Ly+vzDQcR0dH6edatWpJXaInTpzA
8OHDMXXqVFhbW9fonDp27IirV69izpw5sLW1Rbdu3fDgwYMa1fE6S5YswcyZM8t12Q4bNgxRUVEY
N24ctm7dKnfryvnHIO/zlfOP4NWrV/j5558RGhqK1NRUeHp6wsPDAxYWFh+8LdevX8fAgQPh4uKC
FStWQFVV9Y3q+bJLF8SeOoXlANoCaALgGQAjAKMB1AYQUM5+CgD+AmANYCqAEC0tFBYWok6dOhXO
dzUyMqqRMK1Zswbr1q3DuXPnoKOj80bnd+bMGbi6ukJJSQnXrl2Dvr7+G9Xh4eGBu3fvVjhIKScn
B+3atcOUKVPg6en5Rm2VI+eD87FNbzlyKkIsFvPkyZN0d3enrq4uBw8ezMjIyPc2Rag6hIeH09DQ
kFu3bn3ruprVq0cVgBnF7uRmAANLuZ2r6vNlcVzhiePGvfNrIhaLOW7cOPbu3bvG/diluXDhAvX0
9Ghubs4DBw7UeP9evXpVy21969YtGhoa8saNG2/STDlyPjhyt7OcT46EhAREREQgNDQUqqqq8PLy
QmBgIAwNDT9am0pHqzp16lS1o1WVUFBQgKdPn0pHB8fHx+Ph06doCaBkrLIrJK7nKaja5VxCPgBD
Y2MoKCjUqD1VIRAIEBQUBBcXF8yePfuNo1TZ2toiNzcXu3btwldffYXdu3dj5cqV1Yo6dePGDfz5
55/YvXt3lWUbN26MZcuWYciQIYiNjYWmpuYbtVeOnA+FXHzlfBIUFRXhyJEjCAkJwenTpzFo0CBs
3boVbdu2/ej9eI8ePcKgQYNgY2ODixcvljtPNj8/v4y4xsfH4/Hjx4iPj0dycjLMzMxgaWkpndua
XViIKwBKgjTmA0gHcB2AoHipiocaGrCvIszjm6KsrCydV9ukSROMGDGixnVoaGjA0NAQ1tbWuH79
OmbOnAlbW1ts2LABPXtWHpRx6dKl8PHxgZqaWrWONWrUKERFRWHy5MkIDQ2tcVvlyPmQyPt85VRK
Xl4eduzYgbBVq/D46VNk5+VBR0MDtnZ2GDdjBrp37/5WVtdff/2FTZs2ITw8HJaWlvDy8sLgwYOh
paX1Ds/izTlw4AA8PT3h5+eH3r1748mTJ2UENj4+Hi9evIC5ublUXC0tLVG3bl0ZsS3dZ/njjz/C
19cXDdXUcCo3FwJIrN3BANoAeAmJKH9Xqi2KAJQh6fO9BUAHQGMVFdz86y+Ym5u/c+u3hFu3bqFL
ly7Yv38/2rdvX+P9nZ2d4efnBxcXFwCSAV2enp7o1q0bfvzxR+jq6pbZJz4+Hq1atcKjR4/K3V4R
WVlZaNWqFebOnQt3d/cat1WOnA/Gx/Z7y/k0yc/P56wZM2iopcUeWlrcW9zPmADwHsCNAJtrabG+
UMiNwcE1iq+bk5PDrVu30snJiUZGRpw2bVqN4hO/D0riC0dGRnLDhg308/Nj48aNqaKiQkNDQ2kI
xC5dunD06NH09/dnREQE//jjDz5+/FgaqrE6iMViGhgY0NramtoKCjxXqj93J0AhQPfivt3Si0Op
Pt+SBQAFAgHXrFnzHq8OefDgQZqZmVUrZeHrjB07lqtXr5ZZl56ezq+//pp16tRhZGRkmX0mTZrE
mTNnvlFbr169SkNDQ969e/eN9pcj50MgF185ZUhPT2eXdu3YV12df1USJF4M8BzAJhoa9P766yoF
+MqVK5w4cSL19fX5+eefc9euXZUmdH+X5Obm8t69ezx69CiDg4P57bffctiwYezQoQPNzMyooqJC
a2trOjs7c9iwYbSysmKTJk3422+/1VhcKyMtLY3Dhw+noqIiXV1d6Tt9Orupq7OwhinpkgBaaGgw
PDycgwcPpqGhIefPn1+j+Mw1ZenSpWzRokWN8xsvX76cPj4+5W47evQoLSwsOHbsWOlc3eTkZNaq
VYvPnz9/47auX7+ednZ2zMnJeeM65Mh5n8jdznJkKCwsRK8uXVDn0iUE5+dDsYJy4QBCAUQDSAPQ
Q0MDXSdMwKJly2TKpaWlYfv27QgJCUFKSgrGjBmDWrVq4fDhwzh69GiN2+fk5IQRI0aUmVKSl5cn
7V8t+Vt6efnyJSwsLGRcwaUXMzMzKCoqIjo6GsOGDcOYMWMwb948KCpWdAVqRmpqKlauXIm1a9ci
Pz8fgYGB8PLyQmFhIXo7O6P2xYvYUMn1Ls0rSK5394kTsXDpUgCS2MJLly7F3r17MXr0aEybNg1m
ZmbvpO0lkISHhwdyc3OxY8eOavfF79+/H8HBwTh06FC529PT0zFt2jRERUUhNDQUp06dQlJSEoKD
g9+qrUOHDoWBgQHWrl37xvXIkfPe+LjaL6cy/vzzT3p5ebF27drU19dnp06dePHixfd6zBXLl1fL
EgsDaF/8+eviqTF1NDR47tw55ufnU01NjQ0aNKCuri5dXV158OBBamhoMCYmpswxBQIBHz58WGm7
cnJyePfuXdrZ2XHEiBH08/Pj0KFD2b59ewqFQqqoqLBevXrs2rWrNDPOli1bGB0dzadPn1Y5XeZt
o1VVRFJSEmfOnEl9fX16enpyxowZ7Nu3r0yZjIwMtre1ZTdIkqxX5mk4A7CxhganjB9frqfhyZMn
9PHxoZ6eHseOHVvlda0pubm5bN++Pf39/au9z+3bt2ljY1NluUOHDtHMzIxqamrVytZUFWlpabS2
tubOnTvfui45ct41cvH9hGnevDkDAwOZnp7O3NxcRkZG8vr16+/teCKRiPWFQpk+yOqI7zaATQD+
KBCwTZMmrF27NlVUVCgUCpmcnEySPHfuHDU1NcsVQYFAwJs3b/LOnTs8cuQI161bx5kzZ0pzupqY
mFBFRYX169ennp4eHRwcuHDhwhqJa2WkpaVxwIABbN26NePj49+4ntI8f/6cU6dOpZ7VQYQkAAAg
AElEQVSeHsePH8/4+Hj+/fffNDAw4F9//SVTNjMzkzY2NuzfqxeNtLTooqXFXwE+APgc4B2AwQCb
aWnRxtSUm0JCqjx+cnIyZ8+eTQMDAw4fPvydzn9NSEhgnTp1uGvXrmqVz8vLo6qqarVc9wEBAaxb
ty6tra35xx9/vG1TefHiRRoZGZW55nLkfGzk4vuJcu/ePaqpqVX4wIqOjqabmxstLS05f/58vnjx
QrrtyZMnnD9/PuvVq0cTExN+//33JMnCwkJu2bKF7dq1Y/v27bl161Zp/SdPnqShoSFrq6rSCmBH
gIdLiW1mcUAHc4DOABeXEt8nABWKB2RpKipyzJgxnD9/Pq2srJiSkkJS8lDt2LEjDx8+zBEjRrB2
7docMmQItbW1iVIDh2xtbenl5cXx48eza9eurFWrFuvWrcsjR46QJJ2cnLh48WK6uLhQKBRy6tSp
b5XX9dq1a7SxseH48eOZl5f3xvWU8OTJE06cOJF6enr08fHh33//Ld3m7u7Ob7/9tsw+Hh4e9PDw
ICmxLLds2cIurVrR2tiYJjo6tBEKOcDFhceOHatxMI20tDQuXryYJiYm7NevX7mehzfh8uXLNDQ0
5OXLl6tV3tLSkg8ePKi0TH5+PmvXrs1Lly5x//79NDMzo4+PD7Ozs9+qrStXrmSrVq3eye8rR867
Qi6+nzD16tXjwIEDeeDAAaalpUnXX7t2jbVr1+axY8eYmppKb29vurm5Sbfb2dlx2rRpfPbsGTMz
M6UP3E2bNtHOzo4XL17kn3/+yebNmzMsLIykRHwVBALaA0wuHs1cu5T4Tgf4OcBHAH8DaFJq9C0B
WgHcB3CYqirNzMw4ZMgQ1qlThzY2NjQ2NqaCggINDAzYvXt3du7cmXXr1uW2bdt45swZCgQCmQdz
cnIytbS0GBwczOzsbD579kw6crVz5860sLDg8ePH+ffff7NNmzYMqYYlWB7vMlrVw4cP+dVXX1FP
T4++vr5lEsyfPXuW5ubmZTItbd26lQ0bNnzvGZiys7P5008/sU6dOuzatStPnDhRoxHq5bFr1y7+
r707D4/xav8A/n2yT/Z9R4KgliSIBIkkxFKvkmok9gaxVGtX5bJUeC2t/lQsVaS2EHsapFV7LEGo
PW2Jl1qDCCIkZJmZ+/fHTB4z2TeD9v5c11w8+5nJXM895zzn3Kd27dr04MGDcvft1KlTuc35a9as
oU6dOonLT548of79+1P9+vXp+PHjVS6nXC6n4OBgGjduXJXPwVhN4+D7Drtz5w5NmTKFatWqRcbG
xjR27Fh68uQJTZ06lebOnSvu9/jxY7K2tiapVEp//fUXWVpallhD6tGjB61cuVJcjo6OFp8/JiYm
kgDQFmUwLQDIGKCryuXGAB1SCbYDVWq+hekQx0MxE4+Ojg5FRkbSkCFDqHfv3nTv3j2ysLCgY8eO
ERHR2rVryc/PTyxH0We+y5cvp+Dg4BI/k8DAQBo9erS4PH/+fOrdu3elPtdXr17RsGHDqGHDhvTH
H39U6tiiUlNTKTw8nCwtLWnatGlqLRCFpFIptWzZsliQ/9///qfxKfHy8vJo7dq11LBhQ/Lx8aFd
u3ZVKzVlZGQktW7dml69elXmfp9//jlFRUWVul0mk1HDhg3p4MGDxbb9/PPPZG9vTxMmTKhy7+Un
T55QnTp1aNeuXVU6nrGaxsH3PZGcnEyNGzemGTNmkI+PDxkbG5O5ubn4KuzM9MMPP1DXrl1LPIe1
tTWdPXtWXD5//jxZWFgQkSL46unq0mGVgOqiDLhZyjGlT1S2fV8k+K4BqCVAowFydHAgIqKUlBRq
2bIlXbp0iQwMDMRhReUF37CwMFqwYEGJ7yEwMJBWr14tLhc9V3n+/vtvatGiBYWGhlZrGro//viD
+vbtS9bW1jRr1qwym76jo6Opbdu2ajXNvLw88vLyoiVLllS5DNUhlUpp+/bt1Lx5c2ratCnFxsZW
aTiVTCaj0NBQ+vTTT8usSS9atIi++OKLUrfHx8eTl5dXqefIyMig3r17U4MGDejUqVOVLieRot+B
ra0t3b59u0rHM1aT3kxKHFbjfHx80LdvXyQmJqJDhw6YPn06MjMzxVdOTg68vb3RoUMHnDlzBjKZ
rNg5fH19cfbsWXH57Nmz8Pf3F5e1tLTwtIRrmwJoBOCCyrrzUE9/2A7AJQAXtbRQ380NANCkSRPc
vXsXv/76K7y9vUud8k9LSwukMuKtffv2SEpKKu8jqbSEhAS0bt0an376KbZu3VpimsjyXLx4Eb16
9UKHDh3g7u6OGzdu4Ouvvy41V/GzZ88wffp0LF26VG1oztSpU+Ho6IhRo0ZV+f1Uh7a2Nnr16oVz
587hu+++w4oVK9CwYUOsWrUKeXl5FT6PlpYW1q1bh5SUFCxcuLDU/Ro0aFDq1IJEhPnz52PKlCml
Dl+ytrbGli1bMGfOHHz88ceYPHkycnNzK1xOAGjTpg0mTpyIPn36oKCgoFLHMlbj3nb0ZyW7evUq
LVy4kO7du0dSqZTOnTtHjRo1oujoaPrzzz/J1dWV9u3bR3l5efTs2TO14RQeHh705ZdfUlpaGj1/
/lztma+npyedPXuWzp8/Ty1atFB75mtmakqDJZJiNd/CZ74fKp/5JgDkUOSZLwHkCJC2IIgdvIiI
unfvTnZ2djR9+nRxXdHaqre3N23ZskVczsjIIFNTU/rpp58oOzub7t27Jz7zDQwMVHvGW5Gab0FB
gdh8f/LkySr8NYjOnDlD3bt3JwcHB1q4cGGFE02MGzeOhg0bprZuz5495OzsLHZGe1ccO3aMunbt
So6OjrRw4cJKPYe+c+cOOTo60i+//FLi9mvXrpGrq2uJ2xITE8nNza3CPdbT09MpJCSEPvjgAzpz
5kyFy0ikqKl/+OGHVc6exVhN4eD7jkpLS6OwsDBycnIiU1NTCggIoNmzZ4s9No8dO0YRERFkY2ND
tWrVooiICPHYO3fu0IwZM6hOnTpkb29P3377LRER5efn0/r168nb25t8fHwoJiaG8vPziUhxA3Ry
ciIzfX2xeVk1+D4H6L/KABuk7O1cNPh2UPZaVs2ytGDBAtLS0lJLIbhu3Tpq166duLxt2zby8vIi
c3NzcfjK77//TkOHDiUrKyuqX7++eHzRZuei5yrq4cOH1L59e+rYsaM47KkykpKSqEuXLuTs7ExL
ly6t1DPHwmnuVK97//59sre3pyNHjlS6LJpy/vx5Cg0NJRsbG5o1a1aFs2adOnWKbGxsSnyOnp+f
T/r6+iVmNPvwww8pOjq6UmWUy+W0efNmsrW1palTp1aqJ/OjR4/IyclJ7EHP2NvAwZep6d+zJy0Q
hEqlOix8ddfVpSWLF7/ttyA6fvw4OTk50fTp0ys1Dlgul9Phw4cpMDCQXFxcaOXKlZUepiKXy6lT
p05qnYxkMhkFBQXRzJkzK3Wut+Xq1as0ePBgsrS0pEmTJlUo3WNMTAzVrVu3WK0+Ly+PnJycaPny
5ZSQkCAmY7lw4QI5OjpWeRjQgwcPKDg4mJo2barWn6E8R44cIXt7e0pLS6vSdRmrLg6+TE1KSgpZ
GxpWKNGG6mu5lhaZ6+lRmzZt6O+//36r76Gq2arkcjnt3buXfH19yc3NjdatWye2DFTWzp07qXHj
xmrHz5s3j9q1a1djeaI15fbt2zR69GgxYUh5f9+vvvqKAgMDKT8/n27fvk3TvvqK7ExNqaGODnU0
NKT/mJlRc1NTsjM1pWaNGpU49rky5HI5bdiwgWxsbGjGjBkVzhc+e/ZsCggIqFaCFsaqioMvK+bX
X38lG4lEbWhRWa8oQSBHCwtKTU2lBQsWkLW1Na1evbra40iroirZquRyOe3evZtatWpFjRs3pk2b
NlXrhvzq1SuqW7cuHThwQFxX2NO2KrMCvSvS09Np6tSpZGVlRQMHDix1JiqpVErdunUj7+bNycLA
gEbr69NfJXxv/gJoBECW+vr09ZQp1f6+pKWl0UcffUQeHh4VSk8plUqpQ4cO9PXXX1fruoxVBQdf
VqLDhw+TjYkJ9TIyosNQ5BVWvXHmAbQZIF8jIzLW0qJDhw6Jx166dInc3d0pODiY0tPTNVbmymar
kslktH37dvLw8CAPDw/avn17tca8Fpo7dy717NlTXM7MzCQXFxfauXNntc/9LsjMzKS5c+eSra0t
9ezZs1inJ7lcTkMHDKAmgkAPK/DjLR0gbyMjGl7OcKWKkMvltG7dOvF5dXktF/fv3ycHBwe17y9j
msDBl5UqKyuLli1dSo1r16aGxsYUYmJCnxoZUbCpKdlJJNShVSvasWMHLVq0iLy9vdVudLm5uTR5
8mSyt7fXSNApzFa1YcOGcveVSqW0adMmatKkCbVq1Yp2795dY7X0u3fvkqWlpdg0K5fLKTQ0tMwx
ru+rnJwcWrx4MdWqVYs6depEiYmJJJfLacHcueRpaEjPK/HY4gVALQwNaf7s2TVStrt379KHH35I
zZs3Lzcf+v79+8nR0bFYVjLG3iQOvqxccrmckpOTadu2bbR27VqKi4tTm6hcJpNRly5dSuxIdPz4
cXJ1daUhQ4ZQVlZWjZdNNVtVeZMH5Ofn09q1a8nNzY18fX1p7969Nd403rdvX7VhVatWrSJ3d/dy
M0C9TXXq1CE9Pb1inaQ8PT1JEAS1pBQzZ84kQRDUckTn5eXRmjVryMXFhSwsLEgAyBQgbygm4CCA
EpWJWowBMociY9qnUJ/FKUnZW/7p06dq5QgPDxc/07Vr15KWlhYZGxuLr8KMZ+Hh4aSnp6e27bPP
PiNra2uaO3dumc/ap02bRp06daqRlg/GKoKDL6sRaWlpZGtrW+I42ufPn1NERAS5urqKKSZrQkWz
VeXl5dHKlSvJ1dWV2rdvT4cPH34jz6OPHz9Ozs7O4hjgP/74g6ytrenKlSs1fq2a5OLiQo0aNaKl
S5eK6y5fvkwNGzYkLS0tMfjK5XJydXUld3f3YjX5y5cvk7GxMdWvV498lI8lTgD0kUrwLcwVngPQ
DoD6AWQA0Dnl+pvK4Lu4SBrKQYMG0YwZM4hIEXxLG1qmup+q27dvU8eOHcnLy6vU59QFBQXk5+en
NkadsTeJgy+rMXFxcVSvXr1SkzPs2rWLHBwc6Kuvvqr2DDMJCQlka2tLUVFRpQbSV69e0bJly6hW
rVrUpUsXSkpKqtY1yyKVSsnT05M2b95MRIr5h5s0aaI2Jvld5eLiQnPmzKFWrVqJ6yZOnEhz585V
q/kePXqUrKysKDExkaysrNQeM3Ts2JE6d+5MTevUKbGjnmrwVX354XWa0pvK2nEjZ2e1v2nR4Fta
UpXSgi+R4ofDihUryNramr799tsSO9TdvXuX7OzsqjWJA2MVxeklWY355JNP4O/vj/Hjx5e4vUeP
Hrh06RKuXbsGb29vXL58udLXkEqlmDp1KkaOHIn4+HiMHTu2WErCnJwcfP/996hbty727duHHTt2
YO/evfD19a3S+6qI1atXw8TEBL179wYATJgwAc2aNcPgwYPf2DVrUuvWrfH8+XNcvXoVMpkMW7du
xYABA9T2Wb9+PXr27InAwEBIJBIkJCQAAORyOU6cOIGgoCDcfvAA7Stx3RAA54qse/DoEZ48eVKl
90EqaUpVCYKAESNG4Pfff8fevXvh5+eHq1evqu3j7OyM1atXo1+/fnj8+HGVrs9YRXHwZTVq8eLF
OHToEHbu3FnidhsbG/z8888YP348goKCsGDBghLzUJckPT0dnTt3xpkzZ3Du3Dm0bdtWbfuLFy/w
zTffoF69ejh58iT27NmD3bt3w9vbu9rvqyyZmZmYMWMGlixZAkEQEBcXh/3792PFihWl5ip+Fw0c
OBAxMTE4cOAAGjduDCcnJ3Hby5cvsWPHDoSGhgIAQkJCEBMTAwB4/PgxcnNz8cEHH8BKTw+Vecd+
AHIBqIY6S11dZGZmlnpMcnIyLCwsxNeZM2cAKALv//3f/4nrbW1tix3r4uKCgwcPYuDAgfDz88PC
hQvVvn/dunVDWFgYBg0aBFK0DOLkyZMIDw1Fi3r1UN/ODh4uLujRvj3i4+MhlUor8W4ZU/F2K97s
nygpKYns7OzKnef15s2b5O/vT+3atSs3cUNZ2aoyMzNp1qxZZG1tTX379q32NIGVNWbMGBoxYgQR
Ed26dYtsbW1rbNJ6TXBxcaFDhw7R7du3qXbt2tSnTx/auHEjFRQUiM3OGzduJCsrK/GzT0pKEjtp
yWQykkgk9N///pecDA1L7M1cWrPzQoAkKkOOBIAcDAzU5ncOCQmh+fPnE1HVm51Lcv36dfL396e2
bdvStWvXxPV5eXnk4+NDAwcMIM969ai+kREtFAT6HaBUgC4AtB6gtiYm5GxpSfPnzOFEHazSOPiy
N2LatGnUtWvXEp/HymQycb1UKqXvvvuu1MQccrmcFi5cSLa2tvTrr7+qbXv8+DFNmzaNrKysKDw8
nFJTU9/cGypFSkoK2djYUEZGBhUUFFDbtm1LnQ7xXVUYfIkUubPNzMzo5cuXYvC9desWderUifT0
9Mje3p7s7e3Jzs6OBEGgxcp0op06daKgoCAy1NWl7Eo+81XNEe4OkA5A+vr65O7uTgMGDCATExNa
tmwZ3bt3j9asWVNm8FXtaV4RMpmMFi9eTFZWVhQVFSV+N0cNH06OAO0FSFbGEKkLAHUwNKTuQUGU
k5NTvT8E+1fh4MveiPz8fPLy8qLly5eTXC6ngwcPUs/OncnC0JC0BIF0tbXJ0dycxowYQVevXqXL
ly+Th4cH9ejRQ0zMkZWVRSEhIeTl5UU3b94Uz/3w4UOaNGkSWVpa0rBhw9TmAtYkuVxOQUFB4py8
06ZNoy5durx3w1VUg++NGzfo3LlzRERi8D1x4gRpa2vTgQMHKD09ndLT0+nhw4c0ZcoUatmyJREp
ejubmJhQLQcHmgxQLkDJZfR2/lk51Ei1tzMBFAyQtYUFHT16lPbt20chISFkZmZGQUFBZGNjQ0ZG
RmRqakqjR4+mVatWUXJystjBT3VIUmVdu3aN2rZtS/7+/jRxzBjyNDKiRxUco5wHUB8DA/q4c2eu
AbMK4+DL3pirV6+SibEx1bOzo2bGxvQjQA8BKlDenK8BNFVHh2wNDCjIx4cuX74sJuaIiooiNzc3
+uyzz8Se0ffu3aOxY8eShYUFffHFF299UvS4uDhq0qQJFRQU0KFDh8jBweG9TNSgGnxVFQbfb775
hry8vIptv3//Punp6YnDd1JTU6lt27akKwhkDpAPQBtUgq8WXo/z/QCggcpm3MIgJgfI3ciIRo0a
RQEBAeTq6kqTJ09WG6q1ePFiatq0KS1cuJDCw8OpRYsWJJFIqG7dulS7dm1q164dbd++neLi4igi
IoKcnZ3J0tKSfH196ffff1drtp43bx517dpVPLdUKiVzc3PSAShNpVz1AdqqsjxT2Tx+ukgAbqCn
R4IgkLGxMdnZ2VFYWBgdPHhQPP/NmzfF7WZmZtSgQQP65JNPxB877N+Fgy97Y5YuWkR2urp0CMXT
U6q+cgFaIghkZ2pKycnJNG3aNNLS0iJ/f3/KysqiW7du0ciRI8nCwoLGjx//TsxE8/LlSzFoFU5R
t2/fvrddrLdOJpORm6MjxVew1qj62g1QXXv7SrccFBQU0JUrV2jr1q00ffp0Cg4OJj09PdLV1SVP
T08aOHAgjRgxglatWkVLliwRg29SUhKZmZmJjzru379PxkZGZKLS1HxfGWgfqPxAcFU2j39RpPyT
AZLo65NcLqcXL15QZGQkubm5ieUsDL4ymYzy8/Ppt99+o6FDh5KRkRHt3r275v4I7L3AwZeVaObM
mTRgwIBStzdp0oSOHj1a6vbYDRuotqEh3VKpLQwo5+abAJCZri65uLhQcnIyhYWFkbGxsfj8ryp5
ouvUqaNW+6gps2fPppCQEJLL5dStWzeenF3FqVOnyNrQkE5VIvCeBsjG0LBGxmKnpqaSgYEBPX36
lE6ePEkrV66kL774gvz9/UkikZCuri517NiRxowZQ3p6erRx40Z6+fIl/fTTT6SnrU1tVZrCtypr
voXlPAqQlbImbwVQvsq2NQBJtLQoMTGRiBTTHQqCINbcVYOvqgEDBlCtWrWq/b7Z+4WD77+UkZGR
mIJPEASSSCTicmxsLEVGRpYZfMvy7NkzspBIKEXlxhSpbGYkgDoD9K3KtnvK2sW3AEUB1LpJEwoJ
CSEAFBwcTHZ2djRp0iTKzc0t9QZWmtKaVKvjzp07ZGlpSTdv3qRFixaRj49Place/Kfas2cP2Rga
0nrlY4bSgm6BsmnaxtCQEhISauz69erVo5CQEEpISKBnz56J69esWUOtWrWiPXv20DfffEN2dnbk
4OBABgYGJJFIqLkg0DSAFinL9wVAESrlHQLQUOX/nQGKU9m2VlkrHtKnDz179oymT59Otra24ne1
tO9ufHw8CYLwXj6yYFXH43z/pbKzs/HixQu8ePECderUwS+//CIu9+vXr9RkBRWxbu1adBYENC2y
vvCMAQCOqaw/BqCR8t/PAFz5809kZ2fDzc0NO3fuREpKCq5fv45WrVrhypUrinNVo3zVNWnSJIwa
NQpPnjzBvHnzsHnzZujq6r618ryLunbtij1HjyLawwMuhoaYra2N6wCyAeQAuAHgv9racDU0xAp3
d/ySmIiPPvqoxq6fmJgINzc3fP7553B2dsa4cePw9OlTCIIAfX19dO3aFZMnT8bIkSPRunVrZGVl
wdDQEL5EaIfX38/jUHxfAeAlgB0AQpXLIQBiilz3DoCY7dthbW2NqKgoJCUlQUur7Nusn58fAODu
3bvVf+PsvcHBl5VIEATIZDKMGjUK9vb2CAsLEwMfoEhWcPjwYQBAZGQk+vbti5EjR8LBwQHfzJ6N
fi9f4isA9lDcpLJVzt0OwAmV5SQA4wCcBaAP4HMdHdy/exeBgYEAgB9++AFGRkaYOHGieIM2NzeH
iYkJTp8+DUBxsx0wYAAsLS3RpEkTXLx4UTz/tWvX0KZNG9SuXRuRkZEoKCio8udy7NgxnDp1Cp9/
/jn69OmDpUuXwtXVtcrn+yfz8vLC8YsXsefUKTwYOBCBFhaw1dWFja4uAiwscK9fP/xy8iSSLl2q
8UQotWrVwvz583Hnzh0cPHgQBw4cQFRUVLGkJ/7+/khKSkJOTg7ycnPhBKANgJMAMgH8CcBfuW88
AF0AQcrlUAC/AVDNxdUYQNumTXHnzh0EBARg6tSp5Zb12LFjYpnZvwcHX1YiIkJcXBw8PDxw5coV
mJmZYd68eeL2ojexuLg4NG7cGAkJCTDIy0MMgAcALgLoAeBHQMx85A0gD8Al5fIxAJ0A1FfuP0Qq
xZWrV+Hv7692rfDwcBw9ehREBA8PD1y+fBk+Pj64cOEC+vTpg27duiE9PR27d++GpaWl+D5+/PFH
LFmyBIcOHcL69evFm11lyWQyjBkzBt999x0mTZqEgIAAMZ0kK527uzt+XLsW954+xcv8fLzMz8e9
p0+xMiYGHh4eb/z6Pj4+6Nu3LxITE4ttK6z1RkdHw8XVFZna2jAF4AhglfLfOsp91wN4AcAZgAMU
PyoLAMSqnE8KwMLCAg4ODlizZg0OHDiA48ePl1m++Ph4ODs7w87OrprvlL1POPiyUjVs2BDDhg2D
hYUFIiIicPDgwVL3rVWrFkaPHo2srCzU1tHBQQCzoKj5hgNoobKvPgAfAEcBPAWQBcAVEJv7jAFI
5XIx+Ko2MTs7O0MQBAQHB8Pb2xtr1qzB5s2b0bdvX/Tt2xe6urqoV68eateuDUARuMPDw9GqVSu4
ubmhS5cuOHDgQJU+j+joaJibmyM3Nxdnz57F4sWLq3Qe9malpqbi+++/R1paGmQyGc6fP4/Y2FiE
h4cX21cikcDLywvff/89AgICsF8iAUGR9vJ7vG5yTgNwGMCvUPxoLHxNhnrTc6YgwCtAcZStrS2G
DRum9qMVUHyfCwoKsH//fjFH+bJly2r0M2DvPg6+rFSqtRJ7e3ukp6dDLpeXuK+Pjw8AxcQH+XI5
5ADqqmxvgdfPfAFFU94xKJqcC6c78FOuS1YuOzs7l1q2iRMn4vDhw1iyZAmio6PRtGnRJ8yveXp6
iv93cHBAWlpaqfuW5unTp5g5cyYmTpyIiRMnYuvWrTAyMqr0edibV/g4wsfHB5aWlpgwYQL69euH
gQMHAijeahMQEICMjAwMGTIE2SYmSIbih+BjvG5y3gCgOYCOAGyVLzsAowGkAPgLwCsAGQCGfvaZ
eO5x48YhMTFRbRIRc3NzWFtbY9SoUXj06BGOHDmCHj16vIFPgr3LdN52Adi7qbITAmhrawNQNLnl
CgK0oOhUU0+5/RwUtdtC/gBWAHDB6xtcWwBDobix6Wprix1VVMtSeB0iQrNmzXD69GkEBgZi7Nix
sLGxQXBwcJnlrGpHrZkzZ6Jnz56IjIzErFmz0KxZsyqdh715jo6O2Lp1a4nbwsPDi9WA582bJ9ZO
R06YgGVff43YV6/EjlUAMEX5KnYtKB6hAMABQUDIf/4De3t7cbuTkxNyc3PF5dJ+vLJ/H675shJV
NUg1a9YM94jQBopm54cANkLxLFdVGyg6tGyEopYBABYArKF4hlbbwUG8aRVtdra1tcXZs2cBAPr6
+vjxxx8hkUgwfPhwhIeH48KFC7hz506Vyl+SlJQU8WZep04djBw5ssbOzd4tQ4YOxQljY2ys5I/P
CwDmGBhg8uzZb6Zg7B+Hgy8rkSAIxWq/pdWGVfeVSCQYNGQI6unowBaAJxS9RIuGK0MAXlB0WFFt
MG4H4DkAXWNjODo6IiIiArdu3VK71owZMxARESFOJ+fp6Ylt27bBz88PW7ZsgY+PT6nPp0t6X2Uh
IowZMwa9evXCb7/9hp9++um9miaQVY65uTl+TUzERGNjrKvg3zkZwH8kEvy4fsC0udUAAAl2SURB
VD1atGhR7v6MAYBAb3PAJPtHunHjBto0bYobubkwqeSxRwCMcHTElbt3cf/+fWzZsgWxsbHIyMhA
nz590L9/f3h6epYZAH/55RcMHz4c/fv3x5w5c6Cvr1/mNVNTU3H48GE8ffoU2trasLGxwUcffQQ7
Ozvs2LEDX3/9NZ48eYK4uDhxTCb7Z7ty5Qq6tW+Pxjk5+Dw7G10AaBfZ5xyA5RIJdmlpYf3WrejW
rdtbKCl7X3HwZW/EF0OG4MbWrUh4+RIVTT9xB0BbiQRLN25Ez08+Udv2119/ITY2Fps2bYJEIkH/
/v3Rr1+/UsfYZmRkYMSIEbh+/To2btwId3d3te1SqRQJCQlY/u23uHz5MroDsM3Lg0wQcNfAAL/J
ZOjUoQOOnj0LBwcHhISEYMaMGZX/INh769WrV9iyZQt++OYbPE1Lg58gwKygADk6OkjR0kKGvj4+
GzcOQ4YNg62t7dsuLnvPcPBlb4RUKkVI167IO3kS21++LLcG/CeAboaGGD97NsZOnFjqfkSEkydP
YtOmTdi2bRsaNGiA/v37IywsDNbW1sX2jYmJwZdffim+tLW18ezZM3zy4YfI+fNPjM3ORggUw59U
PYNiXOe3ggA9W1uk3r5dbg2a/XOdO3cOKSkpeP78OYyMjFCnTh20b99e7ADIWGVx8GVvjFQqxZjh
w7F982YMlsnwWUGB2vAjgmKo0XJDQ+wlwpIff8TAEsZilqZwrGRsbCz27NkDPz8/9O/fHz169FAb
BnT79m0MGjQIUqkUy5cvR3ivXvC7dQuL8vOLNSUW9QJAL4kEFh07YtPOneWmCmSMsYrg4MveuOvX
r2PFkiVYt2YNamtrw1oQUADgrkwGbTMzfP7llwgfNAjm5uZlnoeIYGpqipSUFLi4uKhty87Oxs6d
OxEbG4tTp06he/fu6N+/Pzp27AgdHR3I5XJERUXhv1Om4BMi/CSVoqLdpnIBdDI0RKqhIXbExYnJ
PyrqyJEjGDhwIOfuZYyJOPgyjXn16hVSUlKQmZkJHR0d2NjYoFmzZqV2nnJxccGjR4/Epj1BEHDt
2jW1cZQlSU9Px7Zt2xAbG4ubN28iLCwMH3zwAWbPng2trCzczs3FYwBOANIB2CiPmwtgBhTDo2xV
1iVBMSa5haEh7jx6BCMjI0RGRuLGjRvYsGFDue+bgy9jrChuQ2MaI5FI4O3tjS5duiAoKAju7u5l
9loWBEFttqXnz5+XGXgLExjY2dlh9OjRSE5OxokTJ2BjY4P58+cj49EjDM3Phy4UuXnrQ5HistAx
AB+g+IxLAVDk9/UTBGyKVc3kyxhjVcPBl71XtLS08PfffwMABg0ahPHjxyMsLAxWVlY4cuQIkpKS
0LVrV1haWsLZ2Rm7d+/Gl19+icePH0NOhO/lcphCMelDYYpLAJBBkShhbJF1yXidgSs5JwcLZs3C
3r17MX/+fGzduhUmJiZo3rw5AODFixdYtWoVWrduDUtLS/Ts2VOt7KtWrULdunXh6+uL33777c19
SIyxdx4HX/ZOK++pSHR0NHr27In09HT4+vpi/PjxGDFiBB4/fow///wT7du3h6GhIZYtWwYdQUA2
FEk8HKAefC9AUevtUGRdARSzMAGKxCB/P3iAzp07Y+rUqejTpw9evHiBCxcuAACmT5+O+Ph4rFix
AhkZGZgwYYJYzvT0dFy8eBGnT5/G4MGDMXz48Jr4eBhj7ykOvuydRUT4+OOPYWFhAQsLi2I1SeD1
dHE6OjrQ19eHXC7HjRs38Pz5c5iZmYm10uzs7GJfdn8Af0Axq9Jx5XJ9KJLjF65rA/UE6LqCgJyc
HBCR2g8DuVyOHTt2YP78+fD09IS2tjbatWuntn327NmwsbHBoEGD8OzZM6Smplb/Q2KMvZc4+LJ3
liAI2LVrFzIzM5GZmYn4+Phi2wtnUyoUExODS5cuoW7duggNDcWlS4pZgw0MDFC0Du0CRaer48pX
Yahsq1w+htdNzoXy5XJIJJJiZb169SqysrLUZlBS5eDgII5D1tHRgbW1dZVmV2KM/TNw8GXvtaJJ
Dpo0aYKYmBg8ePAAzZo1w9ChQwEoOmFJifCqyPH+UHS6OgVF0AUUQfgogBNQD74FACyMjKCjowMd
HR21mm+jRo1gZmYmNkEzxlhZOPiy91bR58EFBQWIjY1FVlYWAMDQ0BAmJorcWh06dIAgCIgucg5/
KCZDdwJgrFznp1z3HIpm50IvAHRR5u9t2bIl/vrrL+TlKSaU09LSQmhoKKZPn46LFy+ioKAAx46p
9ptmjLHXOPiy94rq0KSSZijauHEjXF1dUbt2bZw+fRpRUVEAAFNTU4SGheErQYAlFGN5AcUwogwo
Am4hDygSa7QEYKBclwMgWxDQ/eOPFccFBKBBgwZwdXWFl5cXAGDOnDno3r07IiIiYGdnhyVLlpRY
bsYY4yQb7F9DJpOhgbMz5j18iN6VPHaKri5SAwMRv3//GykbY+zfhWu+7F9DW1sbP+/di9FGRthX
ieOitLQQZ2ODVZxggzFWQzj4sn8VDw8PxO/bh3BTU8zV0sKTMva9CWCEnh5WOjvjgDJTFmOM1QQO
vuxfx9fXF0nnzuF/ISGob2CAQRIJfgFwGsBJANsAdDM2RisjIxgPH44TFy4Um8iBMcaqg5/5sn+1
J0+eYO3q1dgfFydO+GBtY4OQwYPRu3fvEsf0MsZYdXHwZYwxxjSMm50ZY4wxDePgyxhjjGkYB1/G
GGNMwzj4MsYYYxrGwZcxxhjTMA6+jDHGmIZx8GWMMcY0jIMvY4wxpmEcfBljjDEN4+DLGGOMaRgH
X8YYY0zDOPgyxhhjGsbBlzHGGNMwDr6MMcaYhnHwZYwxxjSMgy9jjDGmYRx8GWOMMQ3j4MsYY4xp
GAdfxhhjTMM4+DLGGGMaxsGXMcYY0zAOvowxxpiGcfBljDHGNIyDL2OMMaZhHHwZY4wxDePgyxhj
jGkYB1/GGGNMwzj4MsYYYxrGwZcxxhjTMA6+jDHGmIZx8GWMMcY0jIMvY4wxpmEcfBljjDEN4+DL
GGOMaRgHX8YYY0zDOPgyxhhjGsbBlzHGGNMwDr6MMcaYhnHwZYwxxjSMgy9jjDGmYRx8GWOMMQ3j
4MsYY4xpGAdfxhhjTMM4+DLGGGMaxsGXMcYY0zAOvowxxpiGcfBljDHGNIyDL2OMMaZhHHwZY4wx
DePgyxhjjGkYB1/GGGNMwzj4MsYYYxr2/1kzhKq5hSaTAAAAAElFTkSuQmCC
"
>
</div>

</div>

</div>
</div>

</div>
<div class="cell border-box-sizing text_cell rendered">
<div class="prompt input_prompt">
</div>
<div class="inner_cell">
<div class="text_cell_render border-box-sizing rendered_html">
<h2 id="1-Bereken-en-print-(naar-het-scherm)-de-adjacency-matrix">1 Bereken en print (naar het scherm) de adjacency matrix<a class="anchor-link" href="#1-Bereken-en-print-(naar-het-scherm)-de-adjacency-matrix">&#182;</a></h2>
</div>
</div>
</div>
<div class="cell border-box-sizing code_cell rendered">
<div class="input">
<div class="prompt input_prompt">In&nbsp;[4]:</div>
<div class="inner_cell">
    <div class="input_area">
<div class=" highlight hl-ipython2"><pre><span class="n">nx</span><span class="o">.</span><span class="n">adjacency_matrix</span><span class="o">?</span>
</pre></div>

</div>
</div>
</div>

</div>
<div class="cell border-box-sizing text_cell rendered">
<div class="prompt input_prompt">
</div>
<div class="inner_cell">
<div class="text_cell_render border-box-sizing rendered_html">
<h2 id="2-Bereken-voor-ieder-personage-zijn-&quot;neighbour-set&quot;-en-zijn-&quot;degree&quot;.">2 Bereken voor ieder personage zijn "neighbour set" en zijn "degree".<a class="anchor-link" href="#2-Bereken-voor-ieder-personage-zijn-&quot;neighbour-set&quot;-en-zijn-&quot;degree&quot;.">&#182;</a></h2><p>Print 3 kolommen: personage       neighbour set            degree</p>

</div>
</div>
</div>
<div class="cell border-box-sizing code_cell rendered">
<div class="input">
<div class="prompt input_prompt">In&nbsp;[&nbsp;]:</div>
<div class="inner_cell">
    <div class="input_area">
<div class=" highlight hl-ipython2"><pre> 
</pre></div>

</div>
</div>
</div>

</div>
    </div>
  </div>

  </div>


  
    <footer class="footer hidden-print">
      <div class="container">
        <div class="col-md-4">
          <p>
            This web site does not host notebooks, it only renders notebooks
            available on other websites.
          </p>
        </div>

        <div class="col-md-4">
          <p>
            Delivered by <a href="http://www.fastly.com/">Fastly</a>,
            Rendered by <a href="https://developer.rackspace.com/?nbviewer=awesome">Rackspace</a>
          </p>
          <p>
            nbviewer GitHub <a href="https://github.com/jupyter/nbviewer">repository</a>.
          </p>
        </div>

        <div class="col-md-4">
          
  
            
              <p>
                nbviewer version:
                <a href="https://github.com/jupyter/nbviewer/commit/0eeff0cd48acb894685b6edcd67796fde61adecb">
                  0eeff0c
                </a>
              </p>
            
          
  
  <p>
    notebook version: <a href="https://github.com/jupyter/notebook/releases/tag/4.0.6">
      4.0.6
    </a>
  </p>
  <p>
    nbconvert version: <a href="https://github.com/jupyter/nbconvert/releases/tag/4.0.0">
      4.0.0
    </a>
  </p>
  

          
  
  
  <p>
    Rendered
    <span class='date' data-date='Thu, 05 Nov 2015 13:23:20 UTC' title='Thu, 05 Nov 2015 13:23:20 UTC'>(Thu, 05 Nov 2015 13:23:20 UTC)</span>
  </p>
  

        </div>
      </div>
    </footer>
  

  <script src="/static/components/bootstrap/js/bootstrap.min.js"></script>
  <script src="/static/components/headroom.js/dist/headroom.min.js"></script>
  <script src="/static/components/headroom.js/dist/jQuery.headroom.min.js"></script>

  
  
  <script>
    $(function(){ $("#menubar").headroom({
      tolerance: 5,
      offset: 205,
      classes: {
        initial: "animated",
        pinned: "slideInDown",
        unpinned: "slideOutUp"
      }
    })});
  </script>


  <script>
    (function(i,s,o,g,r,a,m){i['GoogleAnalyticsObject']=r;i[r]=i[r]||function(){
      (i[r].q=i[r].q||[]).push(arguments)},i[r].l=1*new Date();a=s.createElement(o),
      m=s.getElementsByTagName(o)[0];a.async=1;a.src=g;m.parentNode.insertBefore(a,m)
    })(window,document,'script','//www.google-analytics.com/analytics.js','ga');
    ga('create', 'UA-38683231-2', 'auto');
    ga('send', 'pageview');
  </script>
  <script>
    require({
        paths: {
          moment: "/static/components/moment/min/moment.min.js"
        }
      }, ["moment"], function(moment){
      var date = $("footer .date"),
        m = moment(new Date(date.data('date'))),
        update = function(){ date.text(m.fromNow()); };
      setInterval(update, 61*1000);
      update();
      var w = $(window).scroll(function(event){
        $("body").toggleClass("scrolled", w.scrollTop() > 0);
      });
    });
  </script>
  <!--NEW RELIC Stop Perf Measurement-->
  
  <!--NEW RELIC End-->
</body>
</html>